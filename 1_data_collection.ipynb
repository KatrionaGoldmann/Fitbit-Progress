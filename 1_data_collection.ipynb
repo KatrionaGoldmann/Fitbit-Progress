{
 "cells": [
  {
   "cell_type": "markdown",
   "metadata": {},
   "source": [
    "# Exporting Fitbit Data\n",
    "\n",
    "### Katriona Goldmann\n",
    "\n",
    "This script accesses the fitbit API and outputs the data to csv files. Fitbit API Python Client Implemented using scripts by [Brad Pitcher's python-fitbit repo](https://github.com/orcasgit/python-fitbit). "
   ]
  },
  {
   "cell_type": "markdown",
   "metadata": {},
   "source": [
    "-----\n",
    "\n",
    "## Outline:\n",
    "* [Step 1: Access the fitbit API](#first-bullet)\n",
    "* [Step 2: Extract the Data](#second-bullet)\n",
    "* [Step 3: Export Exercise Data](#exercise-bullet)\n",
    "* [Step 4: Export Daily Summaries](#summary-bullet)\n",
    "* [Step 5: Export the sleep summary data](#sleep-bullet)\n",
    "* [Step 6: Export the sleep minute-by-minute data](#sleep-min-bullet) [Unneccessary for this analysis]\n",
    "* [Step 7: Export data minute by minute](#minutes-bullet) [Unneccessary for this analysis]\n",
    "\n",
    "I have automated the script to replot the data every other day using [launchd](https://medium.com/@chetcorcos/a-simple-launchd-tutorial-9fecfcf2dbb3) on my laptop. There is also a copy of the launchd script, as well as the bash script it exectutes (fitbit-update.sh), in this repo. "
   ]
  },
  {
   "cell_type": "markdown",
   "metadata": {},
   "source": [
    "-----\n",
    "## Step 1: Access the fitbit API <a class=\"anchor\" id=\"first-bullet\"></a> \n",
    "\n",
    "Import the necessary packages and their use cases for this project:\n",
    "   \n",
    ">fitbit: access fitbit data <br>\n",
    ">gather_keys_oauth2: authorize fitbit access <br>\n",
    ">pandas: data frames and data manipulation <br>\n",
    ">numpy: summary statistics <br>\n",
    ">datetime: turn the dates into datetime objects / get day of week \n",
    "\n",
    "To download the fitbit module simply run \n",
    "> $ pip install git+git://github.com/orcasgit/python-fitbit"
   ]
  },
  {
   "cell_type": "code",
   "execution_count": 15,
   "metadata": {},
   "outputs": [],
   "source": [
    "import fitbit\n",
    "import pandas as pd\n",
    "import numpy as np\n",
    "import os\n",
    "import datetime\n",
    "from datetime import date, timedelta\n",
    "import cherrypy\n",
    "import sys\n",
    "import gather_keys_oauth2 as Oauth2"
   ]
  },
  {
   "cell_type": "markdown",
   "metadata": {},
   "source": [
    "I have saved my api keys in a csv file located within this directory. Your will need to enter your unique client ID and secret as described in step 1 [here](https://towardsdatascience.com/collect-your-own-fitbit-data-with-python-ff145fa10873):"
   ]
  },
  {
   "cell_type": "code",
   "execution_count": 16,
   "metadata": {},
   "outputs": [],
   "source": [
    "df = pd.read_csv('./Inputs/api_key.csv')\n",
    "\n",
    "CLIENT_ID = df.iat[0,0]\n",
    "CLIENT_SECRET = df.iat[0,1]\n",
    "\n",
    "#cherrypy.config.update({'server.socket_host': '127.0.0.1'})"
   ]
  },
  {
   "cell_type": "markdown",
   "metadata": {},
   "source": [
    "#### Access the API"
   ]
  },
  {
   "cell_type": "code",
   "execution_count": 17,
   "metadata": {},
   "outputs": [],
   "source": [
    "server = Oauth2.OAuth2Server(CLIENT_ID, CLIENT_SECRET)"
   ]
  },
  {
   "cell_type": "markdown",
   "metadata": {},
   "source": [
    "**The next cell will take you to a new tab for authentification**, you may need to log in and approve. The tab can be closed once authorized. "
   ]
  },
  {
   "cell_type": "code",
   "execution_count": 18,
   "metadata": {},
   "outputs": [
    {
     "name": "stderr",
     "output_type": "stream",
     "text": [
      "[18/Feb/2019:17:41:30] ENGINE Listening for SIGTERM.\n",
      "[18/Feb/2019:17:41:30] ENGINE Listening for SIGHUP.\n",
      "[18/Feb/2019:17:41:30] ENGINE Listening for SIGUSR1.\n",
      "[18/Feb/2019:17:41:30] ENGINE Bus STARTING\n",
      "CherryPy Checker:\n",
      "The Application mounted at '' has an empty config.\n",
      "\n",
      "[18/Feb/2019:17:41:30] ENGINE Started monitor thread 'Autoreloader'.\n",
      "[18/Feb/2019:17:41:30] ENGINE Serving on http://127.0.0.1:8080\n",
      "[18/Feb/2019:17:41:30] ENGINE Bus STARTED\n",
      "[18/Feb/2019:17:41:31] ENGINE Error in background task thread function <bound method Autoreloader.run of <cherrypy.process.plugins.Autoreloader object at 0x11b02f748>>.\n",
      "Traceback (most recent call last):\n",
      "  File \"/Applications/anaconda3/lib/python3.7/site-packages/cherrypy/process/plugins.py\", line 517, in run\n",
      "    self.function(*self.args, **self.kwargs)\n",
      "  File \"/Applications/anaconda3/lib/python3.7/site-packages/cherrypy/process/plugins.py\", line 669, in run\n",
      "    for filename in self.sysfiles() | self.files:\n",
      "  File \"/Applications/anaconda3/lib/python3.7/site-packages/cherrypy/process/plugins.py\", line 634, in sysfiles\n",
      "    return set(filter(None, map(self._file_for_module, mods)))\n",
      "  File \"/Applications/anaconda3/lib/python3.7/site-packages/cherrypy/process/plugins.py\", line 640, in _file_for_module\n",
      "    cls._archive_for_zip_module(module)\n",
      "  File \"/Applications/anaconda3/lib/python3.7/site-packages/cherrypy/process/plugins.py\", line 648, in _archive_for_zip_module\n",
      "    return module.__loader__.archive\n",
      "  File \"/Applications/anaconda3/lib/python3.7/site-packages/py/_vendored_packages/apipkg.py\", line 195, in __getattribute__\n",
      "    return getattr(getmod(), name)\n",
      "  File \"/Applications/anaconda3/lib/python3.7/site-packages/py/_vendored_packages/apipkg.py\", line 179, in getmod\n",
      "    x = importobj(modpath, None)\n",
      "  File \"/Applications/anaconda3/lib/python3.7/site-packages/py/_vendored_packages/apipkg.py\", line 69, in importobj\n",
      "    module = __import__(modpath, None, None, ['__doc__'])\n",
      "  File \"/Applications/anaconda3/lib/python3.7/site-packages/pytest.py\", line 8, in <module>\n",
      "    from _pytest.config import cmdline\n",
      "  File \"/Applications/anaconda3/lib/python3.7/site-packages/_pytest/config/__init__.py\", line 24, in <module>\n",
      "    import _pytest.hookspec  # the extension point definitions\n",
      "  File \"/Applications/anaconda3/lib/python3.7/site-packages/_pytest/hookspec.py\", line 27, in <module>\n",
      "    @hookspec(historic=True, warn_on_impl=PYTEST_NAMESPACE)\n",
      "TypeError: __call__() got an unexpected keyword argument 'warn_on_impl'\n",
      "\n",
      "Exception in thread Autoreloader:\n",
      "Traceback (most recent call last):\n",
      "  File \"/Applications/anaconda3/lib/python3.7/threading.py\", line 917, in _bootstrap_inner\n",
      "    self.run()\n",
      "  File \"/Applications/anaconda3/lib/python3.7/site-packages/cherrypy/process/plugins.py\", line 517, in run\n",
      "    self.function(*self.args, **self.kwargs)\n",
      "  File \"/Applications/anaconda3/lib/python3.7/site-packages/cherrypy/process/plugins.py\", line 669, in run\n",
      "    for filename in self.sysfiles() | self.files:\n",
      "  File \"/Applications/anaconda3/lib/python3.7/site-packages/cherrypy/process/plugins.py\", line 634, in sysfiles\n",
      "    return set(filter(None, map(self._file_for_module, mods)))\n",
      "  File \"/Applications/anaconda3/lib/python3.7/site-packages/cherrypy/process/plugins.py\", line 640, in _file_for_module\n",
      "    cls._archive_for_zip_module(module)\n",
      "  File \"/Applications/anaconda3/lib/python3.7/site-packages/cherrypy/process/plugins.py\", line 648, in _archive_for_zip_module\n",
      "    return module.__loader__.archive\n",
      "  File \"/Applications/anaconda3/lib/python3.7/site-packages/py/_vendored_packages/apipkg.py\", line 195, in __getattribute__\n",
      "    return getattr(getmod(), name)\n",
      "  File \"/Applications/anaconda3/lib/python3.7/site-packages/py/_vendored_packages/apipkg.py\", line 179, in getmod\n",
      "    x = importobj(modpath, None)\n",
      "  File \"/Applications/anaconda3/lib/python3.7/site-packages/py/_vendored_packages/apipkg.py\", line 69, in importobj\n",
      "    module = __import__(modpath, None, None, ['__doc__'])\n",
      "  File \"/Applications/anaconda3/lib/python3.7/site-packages/pytest.py\", line 8, in <module>\n",
      "    from _pytest.config import cmdline\n",
      "  File \"/Applications/anaconda3/lib/python3.7/site-packages/_pytest/config/__init__.py\", line 24, in <module>\n",
      "    import _pytest.hookspec  # the extension point definitions\n",
      "  File \"/Applications/anaconda3/lib/python3.7/site-packages/_pytest/hookspec.py\", line 27, in <module>\n",
      "    @hookspec(historic=True, warn_on_impl=PYTEST_NAMESPACE)\n",
      "TypeError: __call__() got an unexpected keyword argument 'warn_on_impl'\n",
      "\n"
     ]
    },
    {
     "name": "stdout",
     "output_type": "stream",
     "text": [
      "127.0.0.1 - - [18/Feb/2019:17:41:32] \"GET /?code=ccbf5264e75a374216580fc627360fe4ed8401a3&state=K9KxkRANCcON7AaYLu7j3QRs5HBHKc HTTP/1.1\" 200 122 \"\" \"Mozilla/5.0 (Macintosh; Intel Mac OS X 10_13_6) AppleWebKit/605.1.15 (KHTML, like Gecko) Version/12.0.3 Safari/605.1.15\"\n"
     ]
    },
    {
     "name": "stderr",
     "output_type": "stream",
     "text": [
      "[18/Feb/2019:17:41:33] ENGINE Bus STOPPING\n",
      "[18/Feb/2019:17:41:38] ENGINE HTTP Server cherrypy._cpwsgi_server.CPWSGIServer(('127.0.0.1', 8080)) shut down\n",
      "[18/Feb/2019:17:41:38] ENGINE Stopped thread 'Autoreloader'.\n",
      "[18/Feb/2019:17:41:38] ENGINE Bus STOPPED\n",
      "[18/Feb/2019:17:41:38] ENGINE Bus EXITING\n",
      "[18/Feb/2019:17:41:38] ENGINE Bus EXITED\n",
      "[18/Feb/2019:17:41:38] ENGINE Waiting for child threads to terminate...\n"
     ]
    }
   ],
   "source": [
    "server.browser_authorize()"
   ]
  },
  {
   "cell_type": "code",
   "execution_count": 19,
   "metadata": {},
   "outputs": [],
   "source": [
    "ACCESS_TOKEN = str(server.fitbit.client.session.token['access_token'])\n",
    "REFRESH_TOKEN = str(server.fitbit.client.session.token['refresh_token'])"
   ]
  },
  {
   "cell_type": "code",
   "execution_count": 20,
   "metadata": {},
   "outputs": [],
   "source": [
    "auth2_client = fitbit.Fitbit(CLIENT_ID, CLIENT_SECRET, oauth2=True, access_token=ACCESS_TOKEN, refresh_token=REFRESH_TOKEN)\n"
   ]
  },
  {
   "cell_type": "code",
   "execution_count": 21,
   "metadata": {},
   "outputs": [],
   "source": [
    "auth2_client = fitbit.Fitbit(CLIENT_ID, CLIENT_SECRET, oauth2=True, access_token=ACCESS_TOKEN, refresh_token=REFRESH_TOKEN)"
   ]
  },
  {
   "cell_type": "markdown",
   "metadata": {},
   "source": [
    "-----\n",
    "\n",
    "# Step 2: Extract the Data <a class=\"anchor\" id=\"second-bullet\"></a>\n",
    "\n",
    "The details and documentation for the API functions can be found [here](https://python-fitbit.readthedocs.io/en/latest/)."
   ]
  },
  {
   "cell_type": "markdown",
   "metadata": {},
   "source": [
    "### i) Create range of dates to extract and analyse:\n",
    "\n",
    "Select the date range by setting d1 and d2. The current setting sets d1 as the day I got the fitbit (a Christmas present 🎄🎅🏻🎁) and d2 as yesterday. We put in yesterday since today's data is incomplete. \n",
    "\n",
    "Then create a list of dates to be analysed. "
   ]
  },
  {
   "cell_type": "code",
   "execution_count": 22,
   "metadata": {},
   "outputs": [
    {
     "name": "stdout",
     "output_type": "stream",
     "text": [
      "Range of dates selected: 54 days, 0:00:00 from 2018-12-25 to 2019-02-17\n"
     ]
    }
   ],
   "source": [
    "time_list, date_list = [], []\n",
    "\n",
    "d1 = date(2018, 12, 25)  # start date\n",
    "d2 = datetime.datetime.today().date() - timedelta(1) # take off one day since not complete\n",
    "delta = (d2) - (d1) \n",
    "print('Range of dates selected:', delta, 'from',  d1, 'to', d2)\n",
    "\n",
    "dates_list = []\n",
    "for i in range(delta.days + 1): dates_list.append(d1 + timedelta(i))"
   ]
  },
  {
   "cell_type": "markdown",
   "metadata": {},
   "source": [
    "### ii) Export the user data"
   ]
  },
  {
   "cell_type": "code",
   "execution_count": 23,
   "metadata": {},
   "outputs": [],
   "source": [
    "user_info = auth2_client.user_profile_get()[\"user\"]"
   ]
  },
  {
   "cell_type": "code",
   "execution_count": 24,
   "metadata": {},
   "outputs": [
    {
     "name": "stdout",
     "output_type": "stream",
     "text": [
      "\n",
      "Average daily steps:  16843 \n",
      "stride length:  0.648 m \n",
      "running stride length:  0.9530000000000001 m\n"
     ]
    }
   ],
   "source": [
    "print(\"\\nAverage daily steps: \", user_info[\"averageDailySteps\"], \n",
    "      \"\\nstride length: \", user_info[\"strideLengthWalking\"]*0.0254, 'm',\n",
    "      \"\\nrunning stride length: \", user_info[\"strideLengthRunning\"]*0.0254, 'm')"
   ]
  },
  {
   "cell_type": "markdown",
   "metadata": {},
   "source": [
    "-----\n",
    "\n",
    "## Step 3: Export Exercise Data <a class=\"anchor\" id=\"exercise-bullet\"></a>\n",
    "\n",
    "\n",
    "Extract the log of exercise so that it can be analysed further down the line. This way we can monitor exercise frequncy and check for improvements or changes. But first lets cehck the dates we still need to run:"
   ]
  },
  {
   "cell_type": "code",
   "execution_count": 25,
   "metadata": {},
   "outputs": [
    {
     "name": "stdout",
     "output_type": "stream",
     "text": [
      "Range of dates selected: 2 days, 0:00:00 from 2019-02-15 to 2019-02-17\n"
     ]
    }
   ],
   "source": [
    "ex_comp = pd.read_csv('./Outputs/exercise.csv')\n",
    "temps = ex_comp.iloc[-1]['lastModified'][0:10]\n",
    "\n",
    "d1 = date(int(temps[0:4]), int(temps[5:7]), int(temps[8:10]))    # start date\n",
    "d2 = datetime.datetime.today().date() - timedelta(1) \n",
    "delta = (d2) - (d1) \n",
    "\n",
    "ex_dates_list = []\n",
    "for i in range(delta.days + 1): ex_dates_list.append(d1 + timedelta(i))\n",
    "\n",
    "print('Range of dates selected:', delta, 'from',  d1, 'to', d2)"
   ]
  },
  {
   "cell_type": "code",
   "execution_count": 26,
   "metadata": {},
   "outputs": [],
   "source": [
    "ex_df = pd.DataFrame()\n",
    "\n",
    "for d in ex_dates_list :\n",
    "    summary = auth2_client.activities(date=d)\n",
    "    exercise = pd.DataFrame.from_records(summary['activities'])\n",
    "    ex_df = ex_df.append(exercise, sort=True)"
   ]
  },
  {
   "cell_type": "markdown",
   "metadata": {},
   "source": [
    "Inspect the data frame and export it to a csv: "
   ]
  },
  {
   "cell_type": "code",
   "execution_count": 27,
   "metadata": {},
   "outputs": [],
   "source": [
    "with open('./Outputs/exercise.csv', 'a') as f:\n",
    "    f.write('\\n') \n",
    "    ex_df.to_csv(f, header=False)"
   ]
  },
  {
   "cell_type": "code",
   "execution_count": 28,
   "metadata": {},
   "outputs": [
    {
     "data": {
      "text/html": [
       "<div>\n",
       "<style scoped>\n",
       "    .dataframe tbody tr th:only-of-type {\n",
       "        vertical-align: middle;\n",
       "    }\n",
       "\n",
       "    .dataframe tbody tr th {\n",
       "        vertical-align: top;\n",
       "    }\n",
       "\n",
       "    .dataframe thead th {\n",
       "        text-align: right;\n",
       "    }\n",
       "</style>\n",
       "<table border=\"1\" class=\"dataframe\">\n",
       "  <thead>\n",
       "    <tr style=\"text-align: right;\">\n",
       "      <th></th>\n",
       "      <th>activityId</th>\n",
       "      <th>activityParentId</th>\n",
       "      <th>activityParentName</th>\n",
       "      <th>calories</th>\n",
       "      <th>description</th>\n",
       "      <th>distance</th>\n",
       "      <th>duration</th>\n",
       "      <th>hasStartTime</th>\n",
       "      <th>isFavorite</th>\n",
       "      <th>lastModified</th>\n",
       "      <th>logId</th>\n",
       "      <th>name</th>\n",
       "      <th>startDate</th>\n",
       "      <th>startTime</th>\n",
       "      <th>steps</th>\n",
       "    </tr>\n",
       "  </thead>\n",
       "  <tbody>\n",
       "    <tr>\n",
       "      <th>0</th>\n",
       "      <td>90009</td>\n",
       "      <td>90009</td>\n",
       "      <td>Run</td>\n",
       "      <td>133</td>\n",
       "      <td>Running - 5 mph (12 min/mile)</td>\n",
       "      <td>1.491291</td>\n",
       "      <td>931000</td>\n",
       "      <td>True</td>\n",
       "      <td>False</td>\n",
       "      <td>2019-02-15T19:08:39.000Z</td>\n",
       "      <td>19895844014</td>\n",
       "      <td>Run</td>\n",
       "      <td>2019-02-15</td>\n",
       "      <td>18:51</td>\n",
       "      <td>2439</td>\n",
       "    </tr>\n",
       "  </tbody>\n",
       "</table>\n",
       "</div>"
      ],
      "text/plain": [
       "   activityId  activityParentId activityParentName  calories  \\\n",
       "0       90009             90009                Run       133   \n",
       "\n",
       "                     description  distance  duration  hasStartTime  \\\n",
       "0  Running - 5 mph (12 min/mile)  1.491291    931000          True   \n",
       "\n",
       "   isFavorite              lastModified        logId name   startDate  \\\n",
       "0       False  2019-02-15T19:08:39.000Z  19895844014  Run  2019-02-15   \n",
       "\n",
       "  startTime  steps  \n",
       "0     18:51   2439  "
      ]
     },
     "execution_count": 28,
     "metadata": {},
     "output_type": "execute_result"
    }
   ],
   "source": [
    "ex_df"
   ]
  },
  {
   "cell_type": "markdown",
   "metadata": {},
   "source": [
    "-----\n",
    "\n",
    "## Step 4: Export Daily Summaries <a class=\"anchor\" id=\"summary-bullet\"></a>\n",
    "\n",
    "Here we will export the summary of each day. This inlcudes minutes of activity, steps, calories and heart rate. "
   ]
  },
  {
   "cell_type": "code",
   "execution_count": 31,
   "metadata": {},
   "outputs": [],
   "source": [
    "dict_vars = ('sedentaryMinutes', 'lightlyActiveMinutes', 'fairlyActiveMinutes', 'veryActiveMinutes', \\\n",
    "             'steps', 'caloriesOut', 'restingHeartRate')"
   ]
  },
  {
   "cell_type": "code",
   "execution_count": 32,
   "metadata": {},
   "outputs": [
    {
     "name": "stdout",
     "output_type": "stream",
     "text": [
      "Range of dates selected: 1 day, 0:00:00 from 2019-02-17 to 2019-02-18\n"
     ]
    }
   ],
   "source": [
    "ds_comp = pd.read_csv('./Outputs/daily_summary.csv')\n",
    "temps = ds_comp.iloc[-1]['date'][0:10]\n",
    "\n",
    "d1 = date(int(temps[6:10]), int(temps[3:5]), int(temps[0:2]))     # start date\n",
    "d2 = datetime.datetime.today().date() - timedelta(1) \n",
    "delta = (d2) - (d1) \n",
    "\n",
    "ds_dates_list = []\n",
    "for i in range(delta.days + 1): ds_dates_list.append(d1 + timedelta(i))\n",
    "\n",
    "print('Range of dates selected:', delta, 'from',  d1, 'to', d2)"
   ]
  },
  {
   "cell_type": "code",
   "execution_count": 58,
   "metadata": {},
   "outputs": [],
   "source": [
    "daily_df = pd.DataFrame()\n",
    "\n",
    "for d in ds_dates_list:\n",
    "    summary = auth2_client.activities(date=d)\n",
    "    daily_sum = {k: summary['summary'][k] for k in dict_vars if k in summary['summary'].keys()}\n",
    "    daily_sum2 = {k: 0 for k in dict_vars if k not in summary['summary'].keys()}\n",
    "    daily_sum.update(daily_sum2)\n",
    "\n",
    "    if 'heartRateZones' in summary['summary'].keys():\n",
    "        daily_sum['Out of Range/low (mins at HR)'] = summary['summary']['heartRateZones'][0]['minutes']\n",
    "        daily_sum['Fat Burn (mins at HR)'] = summary['summary']['heartRateZones'][1]['minutes']\n",
    "        daily_sum['Cardio (mins at HR)'] = summary['summary']['heartRateZones'][2]['minutes']\n",
    "        daily_sum['Peak (mins at HR)'] = summary['summary']['heartRateZones'][3]['minutes']\n",
    "    \n",
    "    daily_sum_df = pd.DataFrame.from_records(daily_sum, index=[0])\n",
    "    daily_df = daily_df.append(daily_sum_df, sort=True)\n",
    "    \n",
    "daily_df['date'] = ds_dates_list\n",
    "daily_df = daily_df.fillna(0)"
   ]
  },
  {
   "cell_type": "code",
   "execution_count": 63,
   "metadata": {},
   "outputs": [
    {
     "data": {
      "text/html": [
       "<div>\n",
       "<style scoped>\n",
       "    .dataframe tbody tr th:only-of-type {\n",
       "        vertical-align: middle;\n",
       "    }\n",
       "\n",
       "    .dataframe tbody tr th {\n",
       "        vertical-align: top;\n",
       "    }\n",
       "\n",
       "    .dataframe thead th {\n",
       "        text-align: right;\n",
       "    }\n",
       "</style>\n",
       "<table border=\"1\" class=\"dataframe\">\n",
       "  <thead>\n",
       "    <tr style=\"text-align: right;\">\n",
       "      <th></th>\n",
       "      <th>sedentaryMinutes</th>\n",
       "      <th>lightlyActiveMinutes</th>\n",
       "      <th>fairlyActiveMinutes</th>\n",
       "      <th>veryActiveMinutes</th>\n",
       "      <th>steps</th>\n",
       "      <th>caloriesOut</th>\n",
       "      <th>restingHeartRate</th>\n",
       "    </tr>\n",
       "  </thead>\n",
       "  <tbody>\n",
       "    <tr>\n",
       "      <th>0</th>\n",
       "      <td>1440</td>\n",
       "      <td>0</td>\n",
       "      <td>0</td>\n",
       "      <td>0</td>\n",
       "      <td>0</td>\n",
       "      <td>1227</td>\n",
       "      <td>0</td>\n",
       "    </tr>\n",
       "    <tr>\n",
       "      <th>0</th>\n",
       "      <td>1081</td>\n",
       "      <td>0</td>\n",
       "      <td>0</td>\n",
       "      <td>0</td>\n",
       "      <td>0</td>\n",
       "      <td>921</td>\n",
       "      <td>0</td>\n",
       "    </tr>\n",
       "  </tbody>\n",
       "</table>\n",
       "</div>"
      ],
      "text/plain": [
       "   sedentaryMinutes  lightlyActiveMinutes  fairlyActiveMinutes  \\\n",
       "0              1440                     0                    0   \n",
       "0              1081                     0                    0   \n",
       "\n",
       "   veryActiveMinutes  steps  caloriesOut  restingHeartRate  \n",
       "0                  0      0         1227                 0  \n",
       "0                  0      0          921                 0  "
      ]
     },
     "execution_count": 63,
     "metadata": {},
     "output_type": "execute_result"
    }
   ],
   "source": [
    "daily_df = daily_df.reindex(columns=dict_vars)\n",
    "daily_df"
   ]
  },
  {
   "cell_type": "markdown",
   "metadata": {},
   "source": [
    "Inspect and export the daily summaries:"
   ]
  },
  {
   "cell_type": "code",
   "execution_count": null,
   "metadata": {},
   "outputs": [],
   "source": [
    "with open('./Outputs/daily_summary.csv', 'a') as f:\n",
    "    f.write('\\n') \n",
    "    daily_df.to_csv(f, header=False)"
   ]
  },
  {
   "cell_type": "code",
   "execution_count": 33,
   "metadata": {},
   "outputs": [
    {
     "data": {
      "text/html": [
       "<div>\n",
       "<style scoped>\n",
       "    .dataframe tbody tr th:only-of-type {\n",
       "        vertical-align: middle;\n",
       "    }\n",
       "\n",
       "    .dataframe tbody tr th {\n",
       "        vertical-align: top;\n",
       "    }\n",
       "\n",
       "    .dataframe thead th {\n",
       "        text-align: right;\n",
       "    }\n",
       "</style>\n",
       "<table border=\"1\" class=\"dataframe\">\n",
       "  <thead>\n",
       "    <tr style=\"text-align: right;\">\n",
       "      <th></th>\n",
       "      <th>Cardio (mins at HR)</th>\n",
       "      <th>Fat Burn (mins at HR)</th>\n",
       "      <th>Out of Range/low (mins at HR)</th>\n",
       "      <th>Peak (mins at HR)</th>\n",
       "      <th>caloriesOut</th>\n",
       "      <th>fairlyActiveMinutes</th>\n",
       "      <th>lightlyActiveMinutes</th>\n",
       "      <th>restingHeartRate</th>\n",
       "      <th>sedentaryMinutes</th>\n",
       "      <th>steps</th>\n",
       "      <th>veryActiveMinutes</th>\n",
       "      <th>date</th>\n",
       "    </tr>\n",
       "  </thead>\n",
       "  <tbody>\n",
       "    <tr>\n",
       "      <th>0</th>\n",
       "      <td>0.0</td>\n",
       "      <td>0.0</td>\n",
       "      <td>244.0</td>\n",
       "      <td>0.0</td>\n",
       "      <td>1279</td>\n",
       "      <td>0</td>\n",
       "      <td>26</td>\n",
       "      <td>63.0</td>\n",
       "      <td>1414</td>\n",
       "      <td>366</td>\n",
       "      <td>0</td>\n",
       "      <td>2019-02-11</td>\n",
       "    </tr>\n",
       "    <tr>\n",
       "      <th>0</th>\n",
       "      <td>13.0</td>\n",
       "      <td>125.0</td>\n",
       "      <td>762.0</td>\n",
       "      <td>14.0</td>\n",
       "      <td>2280</td>\n",
       "      <td>16</td>\n",
       "      <td>160</td>\n",
       "      <td>63.0</td>\n",
       "      <td>1170</td>\n",
       "      <td>20719</td>\n",
       "      <td>94</td>\n",
       "      <td>2019-02-12</td>\n",
       "    </tr>\n",
       "    <tr>\n",
       "      <th>0</th>\n",
       "      <td>18.0</td>\n",
       "      <td>87.0</td>\n",
       "      <td>874.0</td>\n",
       "      <td>0.0</td>\n",
       "      <td>1995</td>\n",
       "      <td>18</td>\n",
       "      <td>90</td>\n",
       "      <td>62.0</td>\n",
       "      <td>1241</td>\n",
       "      <td>16162</td>\n",
       "      <td>91</td>\n",
       "      <td>2019-02-13</td>\n",
       "    </tr>\n",
       "    <tr>\n",
       "      <th>0</th>\n",
       "      <td>0.0</td>\n",
       "      <td>109.0</td>\n",
       "      <td>1263.0</td>\n",
       "      <td>0.0</td>\n",
       "      <td>2000</td>\n",
       "      <td>28</td>\n",
       "      <td>128</td>\n",
       "      <td>62.0</td>\n",
       "      <td>628</td>\n",
       "      <td>16191</td>\n",
       "      <td>81</td>\n",
       "      <td>2019-02-14</td>\n",
       "    </tr>\n",
       "    <tr>\n",
       "      <th>0</th>\n",
       "      <td>9.0</td>\n",
       "      <td>113.0</td>\n",
       "      <td>864.0</td>\n",
       "      <td>0.0</td>\n",
       "      <td>2095</td>\n",
       "      <td>24</td>\n",
       "      <td>111</td>\n",
       "      <td>62.0</td>\n",
       "      <td>1200</td>\n",
       "      <td>18302</td>\n",
       "      <td>105</td>\n",
       "      <td>2019-02-15</td>\n",
       "    </tr>\n",
       "    <tr>\n",
       "      <th>0</th>\n",
       "      <td>14.0</td>\n",
       "      <td>88.0</td>\n",
       "      <td>917.0</td>\n",
       "      <td>10.0</td>\n",
       "      <td>1863</td>\n",
       "      <td>14</td>\n",
       "      <td>126</td>\n",
       "      <td>63.0</td>\n",
       "      <td>803</td>\n",
       "      <td>12844</td>\n",
       "      <td>51</td>\n",
       "      <td>2019-02-16</td>\n",
       "    </tr>\n",
       "    <tr>\n",
       "      <th>0</th>\n",
       "      <td>0.0</td>\n",
       "      <td>0.0</td>\n",
       "      <td>0.0</td>\n",
       "      <td>0.0</td>\n",
       "      <td>1227</td>\n",
       "      <td>0</td>\n",
       "      <td>0</td>\n",
       "      <td>0.0</td>\n",
       "      <td>1440</td>\n",
       "      <td>0</td>\n",
       "      <td>0</td>\n",
       "      <td>2019-02-17</td>\n",
       "    </tr>\n",
       "    <tr>\n",
       "      <th>0</th>\n",
       "      <td>0.0</td>\n",
       "      <td>0.0</td>\n",
       "      <td>0.0</td>\n",
       "      <td>0.0</td>\n",
       "      <td>832</td>\n",
       "      <td>0</td>\n",
       "      <td>0</td>\n",
       "      <td>0.0</td>\n",
       "      <td>977</td>\n",
       "      <td>0</td>\n",
       "      <td>0</td>\n",
       "      <td>2019-02-18</td>\n",
       "    </tr>\n",
       "  </tbody>\n",
       "</table>\n",
       "</div>"
      ],
      "text/plain": [
       "   Cardio (mins at HR)  Fat Burn (mins at HR)  Out of Range/low (mins at HR)  \\\n",
       "0                  0.0                    0.0                          244.0   \n",
       "0                 13.0                  125.0                          762.0   \n",
       "0                 18.0                   87.0                          874.0   \n",
       "0                  0.0                  109.0                         1263.0   \n",
       "0                  9.0                  113.0                          864.0   \n",
       "0                 14.0                   88.0                          917.0   \n",
       "0                  0.0                    0.0                            0.0   \n",
       "0                  0.0                    0.0                            0.0   \n",
       "\n",
       "   Peak (mins at HR)  caloriesOut  fairlyActiveMinutes  lightlyActiveMinutes  \\\n",
       "0                0.0         1279                    0                    26   \n",
       "0               14.0         2280                   16                   160   \n",
       "0                0.0         1995                   18                    90   \n",
       "0                0.0         2000                   28                   128   \n",
       "0                0.0         2095                   24                   111   \n",
       "0               10.0         1863                   14                   126   \n",
       "0                0.0         1227                    0                     0   \n",
       "0                0.0          832                    0                     0   \n",
       "\n",
       "   restingHeartRate  sedentaryMinutes  steps  veryActiveMinutes        date  \n",
       "0              63.0              1414    366                  0  2019-02-11  \n",
       "0              63.0              1170  20719                 94  2019-02-12  \n",
       "0              62.0              1241  16162                 91  2019-02-13  \n",
       "0              62.0               628  16191                 81  2019-02-14  \n",
       "0              62.0              1200  18302                105  2019-02-15  \n",
       "0              63.0               803  12844                 51  2019-02-16  \n",
       "0               0.0              1440      0                  0  2019-02-17  \n",
       "0               0.0               977      0                  0  2019-02-18  "
      ]
     },
     "execution_count": 33,
     "metadata": {},
     "output_type": "execute_result"
    }
   ],
   "source": [
    "daily_df.head()"
   ]
  },
  {
   "cell_type": "markdown",
   "metadata": {},
   "source": [
    "-----\n",
    "\n",
    "## Step 5: Export Sleep Summary Data <a class=\"anchor\" id=\"sleep-bullet\"></a>\n",
    "\n",
    "Similarly we can export the sleep data which shows the hours in bed and hours asleep each day. "
   ]
  },
  {
   "cell_type": "code",
   "execution_count": 20,
   "metadata": {},
   "outputs": [
    {
     "name": "stdout",
     "output_type": "stream",
     "text": [
      "Range of dates selected: 10 days, 0:00:00 from 2019-02-08 to 2019-02-18\n"
     ]
    }
   ],
   "source": [
    "ss_comp = pd.read_csv('./Outputs/sleep_summary.csv')\n",
    "ss_comp.head()\n",
    "\n",
    "temps = ss_comp.iloc[-1]['Date'][0:10]\n",
    "\n",
    "d1 = date(int(temps[0:4]), int(temps[5:7]), int(temps[8:10]))    # start date\n",
    "d2 = datetime.datetime.today().date() - timedelta(1) \n",
    "delta = (d2) - (d1) \n",
    "\n",
    "ss_dates_list = []\n",
    "for i in range(delta.days + 1): ss_dates_list.append(d1 + timedelta(i))\n",
    "\n",
    "print('Range of dates selected:', delta, 'from',  d1, 'to', d2)"
   ]
  },
  {
   "cell_type": "code",
   "execution_count": 21,
   "metadata": {},
   "outputs": [
    {
     "name": "stdout",
     "output_type": "stream",
     "text": [
      "\tNo sleep data for 2019-02-09\n",
      "\tNo sleep data for 2019-02-11\n",
      "\tNo sleep data for 2019-02-12\n",
      "\tNo sleep data for 2019-02-13\n",
      "\tNo sleep data for 2019-02-15\n",
      "\tNo sleep data for 2019-02-17\n",
      "\tNo sleep data for 2019-02-18\n"
     ]
    }
   ],
   "source": [
    "sleep_df = pd.DataFrame()\n",
    "\n",
    "for d in ss_dates_list:\n",
    "    fit_statsSl = auth2_client.sleep(date=d)\n",
    "    stime_list = []\n",
    "    sval_list = []\n",
    "\n",
    "    if len(fit_statsSl['sleep']) != 0:\n",
    "    \n",
    "        for i in fit_statsSl['sleep'][0]['minuteData']:\n",
    "            stime_list.append(i['dateTime'])\n",
    "            sval_list.append(i['value'])\n",
    "            \n",
    "        #Calculate the sleep summary\n",
    "        dict_sum = {\n",
    "            'Date' : d, \n",
    "            'Time in bed (mins)' : len(stime_list), \n",
    "            'Time asleep (mins)' : (sval_list.count('1')),\n",
    "            'Time awake (mins)' : (sval_list.count('2')),\n",
    "            'Time very awake (mins)' : (sval_list.count('3')),\n",
    "            'Bedtime (mins)' : (stime_list[0]),\n",
    "            'Wake up (mins)' : (stime_list[-1]),\n",
    "            'Total time' : \"{:.2f}\".format(((datetime.datetime.strptime(stime_list[-1],'%H:%M:%S') - \\\n",
    "                            datetime.datetime.strptime(stime_list[0],'%H:%M:%S')).total_seconds())/(60*60))\n",
    "        }\n",
    "\n",
    "        sleep_sum_df = pd.DataFrame.from_records(dict_sum, index=[0])\n",
    "        sleep_df = sleep_df.append(sleep_sum_df)\n",
    "    \n",
    "    else:\n",
    "        print('\\tNo sleep data for ' + d.strftime('%Y-%m-%d'))"
   ]
  },
  {
   "cell_type": "code",
   "execution_count": 22,
   "metadata": {},
   "outputs": [],
   "source": [
    "with open('./Outputs/sleep_summary.csv', 'a') as f:\n",
    "    sleep_df.to_csv(f, header=False)"
   ]
  },
  {
   "cell_type": "code",
   "execution_count": 23,
   "metadata": {},
   "outputs": [
    {
     "data": {
      "text/html": [
       "<div>\n",
       "<style scoped>\n",
       "    .dataframe tbody tr th:only-of-type {\n",
       "        vertical-align: middle;\n",
       "    }\n",
       "\n",
       "    .dataframe tbody tr th {\n",
       "        vertical-align: top;\n",
       "    }\n",
       "\n",
       "    .dataframe thead th {\n",
       "        text-align: right;\n",
       "    }\n",
       "</style>\n",
       "<table border=\"1\" class=\"dataframe\">\n",
       "  <thead>\n",
       "    <tr style=\"text-align: right;\">\n",
       "      <th></th>\n",
       "      <th>Bedtime (mins)</th>\n",
       "      <th>Date</th>\n",
       "      <th>Time asleep (mins)</th>\n",
       "      <th>Time awake (mins)</th>\n",
       "      <th>Time in bed (mins)</th>\n",
       "      <th>Time very awake (mins)</th>\n",
       "      <th>Total time</th>\n",
       "      <th>Wake up (mins)</th>\n",
       "    </tr>\n",
       "  </thead>\n",
       "  <tbody>\n",
       "    <tr>\n",
       "      <th>0</th>\n",
       "      <td>23:01:30</td>\n",
       "      <td>2019-02-08</td>\n",
       "      <td>502</td>\n",
       "      <td>9</td>\n",
       "      <td>511</td>\n",
       "      <td>0</td>\n",
       "      <td>-15.50</td>\n",
       "      <td>07:31:30</td>\n",
       "    </tr>\n",
       "    <tr>\n",
       "      <th>0</th>\n",
       "      <td>01:15:00</td>\n",
       "      <td>2019-02-10</td>\n",
       "      <td>442</td>\n",
       "      <td>17</td>\n",
       "      <td>460</td>\n",
       "      <td>1</td>\n",
       "      <td>7.65</td>\n",
       "      <td>08:54:00</td>\n",
       "    </tr>\n",
       "    <tr>\n",
       "      <th>0</th>\n",
       "      <td>22:05:00</td>\n",
       "      <td>2019-02-14</td>\n",
       "      <td>555</td>\n",
       "      <td>17</td>\n",
       "      <td>575</td>\n",
       "      <td>3</td>\n",
       "      <td>-14.43</td>\n",
       "      <td>07:39:00</td>\n",
       "    </tr>\n",
       "    <tr>\n",
       "      <th>0</th>\n",
       "      <td>00:45:30</td>\n",
       "      <td>2019-02-16</td>\n",
       "      <td>437</td>\n",
       "      <td>9</td>\n",
       "      <td>446</td>\n",
       "      <td>0</td>\n",
       "      <td>7.42</td>\n",
       "      <td>08:10:30</td>\n",
       "    </tr>\n",
       "  </tbody>\n",
       "</table>\n",
       "</div>"
      ],
      "text/plain": [
       "  Bedtime (mins)        Date  Time asleep (mins)  Time awake (mins)  \\\n",
       "0       23:01:30  2019-02-08                 502                  9   \n",
       "0       01:15:00  2019-02-10                 442                 17   \n",
       "0       22:05:00  2019-02-14                 555                 17   \n",
       "0       00:45:30  2019-02-16                 437                  9   \n",
       "\n",
       "   Time in bed (mins)  Time very awake (mins) Total time Wake up (mins)  \n",
       "0                 511                       0     -15.50       07:31:30  \n",
       "0                 460                       1       7.65       08:54:00  \n",
       "0                 575                       3     -14.43       07:39:00  \n",
       "0                 446                       0       7.42       08:10:30  "
      ]
     },
     "execution_count": 23,
     "metadata": {},
     "output_type": "execute_result"
    }
   ],
   "source": [
    "sleep_df.head()"
   ]
  },
  {
   "cell_type": "markdown",
   "metadata": {},
   "source": [
    "-----\n",
    "\n",
    "## Step 6: Export Sleep minute-by-minute Data <a class=\"anchor\" id=\"sleep-min-bullet\"></a>\n",
    "\n",
    "The minute-by-minute sleep data can be extracted using the auth2_client.intraday_time_series() functions which lets us to look at the fitbit data between two timepoints. \n",
    "\n",
    "To save pinging the API over and over again, we only export for dates which have not previously been extracted. Otherwise this can lead to errors - if you have a big gap it might be worth setting a date range of a week or so. "
   ]
  },
  {
   "cell_type": "code",
   "execution_count": null,
   "metadata": {},
   "outputs": [],
   "source": [
    "run_min_sleep = False\n",
    "\n",
    "\n",
    "if run_min_sleep == True: \n",
    "    # Gather the dates we have so far\n",
    "    file_list=os.listdir(r\"./Outputs/sleep/\")\n",
    "    file_list=[ file_list for file_list in file_list if file_list.endswith( '.csv' ) ]\n",
    "    file_list=[w.replace('sleep_', '').replace('.csv', '') for w in file_list]\n",
    "    file_list = [datetime.datetime.strptime(d, '%Y-%m-%d').date() for d in file_list]\n",
    "\n",
    "    # Find the dates we still need to run\n",
    "    dl = [d for d in dates_list if d not in file_list]\n",
    "    print(\"sleep: running \" + str(len(dl)) + \" day(s)\")\n",
    "\n",
    "        for d in dl:\n",
    "            fit_statsSl = auth2_client.sleep(date=d)\n",
    "            stime_list = []\n",
    "            sval_list = []\n",
    "    \n",
    "        if len(fit_statsSl['sleep']) != 0:\n",
    "        \n",
    "            for i in fit_statsSl['sleep'][0]['minuteData']:\n",
    "                stime_list.append(i['dateTime'])\n",
    "            sval_list.append(i['value'])\n",
    "        \n",
    "            sleepdf = pd.DataFrame({'State':sval_list, 'Time':stime_list})\n",
    "    \n",
    "            sleepdf['Interpreted'] = sleepdf['State'].map({'2':'Awake','3':'Very Awake','1':'Asleep'})\n",
    "\n",
    "            sleepdf.to_csv('./Outputs/sleep/' + 'sleep_' + d.strftime('%Y-%m-%d') +'.csv', \\\n",
    "                           columns = ['Time','State','Interpreted'],header=True, \n",
    "                           index = False)\n",
    "        else:\n",
    "            print('\\tNo sleep data for ' + d.strftime('%Y-%m-%d'))"
   ]
  },
  {
   "cell_type": "markdown",
   "metadata": {},
   "source": [
    "-----\n",
    "\n",
    "## Step 7: Extract Daily Data Minute by Minute: <a class=\"anchor\" id=\"minutes-bullet\"></a>\n",
    "\n",
    "Like before but for all the other variables. "
   ]
  },
  {
   "cell_type": "code",
   "execution_count": null,
   "metadata": {},
   "outputs": [],
   "source": [
    "activities = ['heart', 'calories', 'steps', 'distance', 'floors', 'elevation', \\\n",
    "              'minutesSedentary', 'minutesLightlyActive', 'minutesFairlyActive', 'minutesVeryActive']"
   ]
  },
  {
   "cell_type": "code",
   "execution_count": null,
   "metadata": {},
   "outputs": [],
   "source": [
    "for act in activities:\n",
    "    if not os.path.exists('./Outputs/'+ act):\n",
    "        os.makedirs('./Outputs/'+ act)"
   ]
  },
  {
   "cell_type": "code",
   "execution_count": null,
   "metadata": {},
   "outputs": [],
   "source": [
    "run_daily_min = False\n",
    "\n",
    "\n",
    "if run_daily_min == True: \n",
    "    for var in activities:\n",
    "        \n",
    "        # But we don't want to repeat analysis for the same days so exclude these\n",
    "        file_list=os.listdir(r\"./Outputs/\"+ var +\"/\")\n",
    "        file_list=[ file_list for file_list in file_list if file_list.endswith( '.csv' ) ]\n",
    "        file_list=[w.replace(var+'_', '').replace('.csv', '') for w in file_list]\n",
    "        file_list = [datetime.datetime.strptime(d, '%Y-%m-%d').date() for d in file_list]\n",
    "    \n",
    "        # Find the dates we still need to run\n",
    "        dl = [d for d in dates_list if d not in file_list]\n",
    "        print(var + \": running \" + str(len(dl)) + \" day(s)\")\n",
    "        \n",
    "        for date in dl:\n",
    "            fitbit_stats2 = auth2_client.intraday_time_series('activities/' + var, base_date=date, detail_level='1min')\n",
    "            stats2 = fitbit_stats2\n",
    "        \n",
    "            for i in stats2['activities-' + str(var) + '-intraday']['dataset']:\n",
    "                val_list.append(i['value'])\n",
    "                date_list.append(date)\n",
    "                time_list.append(i['time'])\n",
    "        \n",
    "            # Export the data to a csv file\n",
    "            df = pd.DataFrame({var:val_list,'Date':date_list, 'Time':time_list})\n",
    "            df.to_csv('./Outputs/'+ var +'/' + var + '_' + str(date) + '.csv', \\\n",
    "                    columns=['Date', 'Time', var], header=True, \\\n",
    "                    index = False)"
   ]
  }
 ],
 "metadata": {
  "kernelspec": {
   "display_name": "Python 3",
   "language": "python",
   "name": "python3"
  },
  "language_info": {
   "codemirror_mode": {
    "name": "ipython",
    "version": 3
   },
   "file_extension": ".py",
   "mimetype": "text/x-python",
   "name": "python",
   "nbconvert_exporter": "python",
   "pygments_lexer": "ipython3",
   "version": "3.7.1"
  }
 },
 "nbformat": 4,
 "nbformat_minor": 2
}
