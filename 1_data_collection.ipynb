{
 "cells": [
  {
   "cell_type": "markdown",
   "metadata": {},
   "source": [
    "# Exporting Fitbit Data\n",
    "\n",
    "<b> Katriona Goldmann </b>\n",
    "\n",
    "This script accesses the fitbit API and outputs the data to csv files. Fitbit API Python Client Implemented using scripts by [Brad Pitcher's python-fitbit repo](https://github.com/orcasgit/python-fitbit). "
   ]
  },
  {
   "cell_type": "markdown",
   "metadata": {},
   "source": [
    "## Outline:\n",
    "* [Step 1: Access the fitbit API](#first-bullet)\n",
    "* [Step 2: Extract the Data](#second-bullet)\n",
    "* [Step 3: Export Exercise Data](#exercise-bullet)\n",
    "* [Step 4: Export Daily Summaries](#summary-bullet)\n",
    "* [Step 5: Export the sleep summary data](#sleep-bullet)\n",
    "\n",
    "I have automated the script to replot the data every other day using [launchd](https://medium.com/@chetcorcos/a-simple-launchd-tutorial-9fecfcf2dbb3) on my laptop. There is also a copy of the launchd script, as well as the bash script it exectutes (fitbit-update.sh), in this repo. "
   ]
  },
  {
   "cell_type": "markdown",
   "metadata": {},
   "source": [
    "## Step 1: Access the fitbit API <a class=\"anchor\" id=\"first-bullet\"></a>\n",
    "\n",
    "Import the necessary packages and their use cases for this project:\n",
    "   \n",
    ">fitbit: access fitbit data <br>\n",
    ">gather_keys_oauth2: authorize fitbit access <br>\n",
    ">pandas: data frames and data manipulation <br>\n",
    ">numpy: summary statistics <br>\n",
    ">datetime: turn the dates into datetime objects / get day of week <br>\n",
    ">cherrypy: for web applications<br>\n",
    ">sys: This module provides access to some variables used or maintained by the interpreter<br>\n",
    ">gather_keys_oauth: to authorize the API, script [here](https://github.com/orcasgit/python-fitbit/blob/master/gather_keys_oauth2.py)<br>\n",
    "\n",
    "To download the fitbit module simply run \n",
    "> $ pip install git+git://github.com/orcasgit/python-fitbit"
   ]
  },
  {
   "cell_type": "code",
   "execution_count": 29,
   "metadata": {},
   "outputs": [],
   "source": [
    "import fitbit\n",
    "import pandas as pd\n",
    "import numpy as np\n",
    "import os\n",
    "import datetime\n",
    "from datetime import date, timedelta\n",
    "import cherrypy\n",
    "import sys\n",
    "import gather_keys_oauth2 as Oauth2"
   ]
  },
  {
   "cell_type": "markdown",
   "metadata": {},
   "source": [
    "I have saved my api keys in a csv file located within this directory. Your will need to enter your unique client ID and secret as described in step 1 [here](https://towardsdatascience.com/collect-your-own-fitbit-data-with-python-ff145fa10873):"
   ]
  },
  {
   "cell_type": "code",
   "execution_count": 30,
   "metadata": {},
   "outputs": [],
   "source": [
    "df = pd.read_csv('./Inputs/api_key.csv')\n",
    "\n",
    "CLIENT_ID = df.iat[0,0]\n",
    "CLIENT_SECRET = df.iat[0,1]\n",
    "\n",
    "cherrypy.config.update({'server.socket_host': '127.0.0.1'})"
   ]
  },
  {
   "cell_type": "code",
   "execution_count": 31,
   "metadata": {},
   "outputs": [],
   "source": [
    "server = Oauth2.OAuth2Server(CLIENT_ID, CLIENT_SECRET)"
   ]
  },
  {
   "cell_type": "markdown",
   "metadata": {},
   "source": [
    "The next cell will take you to a new tab for authentification, you may need to log in and approve. The tab can be closed once authorized. If this causes errors, this may be due to package versions installed (see [here](https://github.com/orcasgit/python-fitbit/issues/142)). If this is the case roll back to previous versions: pip install requests-oauthlib==1.1.0, and pip install oauthlib==2.1.0"
   ]
  },
  {
   "cell_type": "code",
   "execution_count": 32,
   "metadata": {},
   "outputs": [
    {
     "name": "stderr",
     "output_type": "stream",
     "text": [
      "[05/Mar/2019:10:25:06] ENGINE Listening for SIGTERM.\n",
      "[05/Mar/2019:10:25:06] ENGINE Listening for SIGHUP.\n",
      "[05/Mar/2019:10:25:06] ENGINE Listening for SIGUSR1.\n",
      "[05/Mar/2019:10:25:06] ENGINE Bus STARTING\n",
      "CherryPy Checker:\n",
      "The Application mounted at '' has an empty config.\n",
      "\n",
      "[05/Mar/2019:10:25:06] ENGINE Started monitor thread 'Autoreloader'.\n",
      "[05/Mar/2019:10:25:06] ENGINE Serving on http://127.0.0.1:8080\n",
      "[05/Mar/2019:10:25:06] ENGINE Bus STARTED\n"
     ]
    },
    {
     "name": "stdout",
     "output_type": "stream",
     "text": [
      "127.0.0.1 - - [05/Mar/2019:10:25:09] \"GET /?code=f4d6b60a7be7d7f7e2a725460ada0a42ae642680&state=ebt7pJoE136fpCWl7xN76BMtja7YXP HTTP/1.1\" 200 122 \"\" \"Mozilla/5.0 (Macintosh; Intel Mac OS X 10_13_6) AppleWebKit/605.1.15 (KHTML, like Gecko) Version/12.0.3 Safari/605.1.15\"\n"
     ]
    },
    {
     "name": "stderr",
     "output_type": "stream",
     "text": [
      "[05/Mar/2019:10:25:10] ENGINE Bus STOPPING\n",
      "[05/Mar/2019:10:25:15] ENGINE HTTP Server cherrypy._cpwsgi_server.CPWSGIServer(('127.0.0.1', 8080)) shut down\n",
      "[05/Mar/2019:10:25:15] ENGINE Stopped thread 'Autoreloader'.\n",
      "[05/Mar/2019:10:25:15] ENGINE Bus STOPPED\n",
      "[05/Mar/2019:10:25:15] ENGINE Bus EXITING\n",
      "[05/Mar/2019:10:25:15] ENGINE Bus EXITED\n",
      "[05/Mar/2019:10:25:15] ENGINE Waiting for child threads to terminate...\n"
     ]
    }
   ],
   "source": [
    "server.browser_authorize()"
   ]
  },
  {
   "cell_type": "code",
   "execution_count": 33,
   "metadata": {},
   "outputs": [],
   "source": [
    "ACCESS_TOKEN = str(server.fitbit.client.session.token['access_token'])\n",
    "REFRESH_TOKEN = str(server.fitbit.client.session.token['refresh_token'])\n",
    "\n",
    "auth2_client = fitbit.Fitbit(\n",
    "    CLIENT_ID,\n",
    "    CLIENT_SECRET,\n",
    "    oauth2=True,\n",
    "    access_token=ACCESS_TOKEN,\n",
    "    refresh_token=REFRESH_TOKEN)"
   ]
  },
  {
   "cell_type": "markdown",
   "metadata": {},
   "source": [
    "# Step 2: Extract the User Data <a class=\"anchor\" id=\"second-bullet\"></a>\n",
    "\n",
    "The details and documentation for the API functions can be found [here](https://python-fitbit.readthedocs.io/en/latest/)."
   ]
  },
  {
   "cell_type": "code",
   "execution_count": 35,
   "metadata": {},
   "outputs": [],
   "source": [
    "user_info = auth2_client.user_profile_get()[\"user\"]"
   ]
  },
  {
   "cell_type": "code",
   "execution_count": 36,
   "metadata": {},
   "outputs": [
    {
     "name": "stdout",
     "output_type": "stream",
     "text": [
      "\n",
      "Average daily steps:  10601 \n",
      "stride length:  0.648 m \n",
      "running stride length:  0.961 m\n"
     ]
    }
   ],
   "source": [
    "print(\"\\nAverage daily steps: \", user_info[\"averageDailySteps\"], \n",
    "      \"\\nstride length: \", user_info[\"strideLengthWalking\"]*0.0254, 'm',\n",
    "      \"\\nrunning stride length: \", user_info[\"strideLengthRunning\"]*0.0254, 'm')"
   ]
  },
  {
   "cell_type": "markdown",
   "metadata": {},
   "source": [
    "# Step 3: Export Exercise Data <a class=\"anchor\" id=\"exercise-bullet\"></a>\n",
    "\n",
    "\n",
    "Extract the log of exercise so that it can be analysed further down the line. This way we can monitor exercise frequncy and check for improvements or changes. But first lets check the dates we still need to run:"
   ]
  },
  {
   "cell_type": "code",
   "execution_count": 37,
   "metadata": {},
   "outputs": [
    {
     "name": "stdout",
     "output_type": "stream",
     "text": [
      "Range of dates selected: 12 days, 0:00:00 from 2019-02-20 to 2019-03-04\n"
     ]
    }
   ],
   "source": [
    "# If the analysis has been run before, we only need to run from the last date\n",
    "if os.path.exists('./Outputs/exercise.csv'):\n",
    "    ex_comp = pd.read_csv('./Outputs/exercise.csv')\n",
    "    lastdate = ex_comp.iloc[-1]['lastModified'][0:10]\n",
    "else:\n",
    "    lastdate = \"2015/01/01\" # define the start date\n",
    "\n",
    "d1 = date(int(lastdate[0:4]), int(lastdate[5:7]), int(lastdate[8:10]))    # start date\n",
    "d2 = datetime.datetime.today().date() - timedelta(1) \n",
    "delta = (d2) - (d1) \n",
    "\n",
    "ex_dates_list = []\n",
    "for i in range(delta.days + 1): ex_dates_list.append(d1 + timedelta(i))\n",
    "\n",
    "print('Range of dates selected:', delta, 'from',  d1, 'to', d2)"
   ]
  },
  {
   "cell_type": "code",
   "execution_count": 38,
   "metadata": {},
   "outputs": [
    {
     "name": "stdout",
     "output_type": "stream",
     "text": [
      "0    2.236936\n",
      "0    2.796170\n",
      "Name: distance, dtype: float64\n"
     ]
    }
   ],
   "source": [
    "ex_df = pd.DataFrame()\n",
    "\n",
    "for d in ex_dates_list:\n",
    "    summary = auth2_client.activities(date=d)\n",
    "    exercise = pd.DataFrame.from_records(summary['activities'])\n",
    "    ex_df = ex_df.append(exercise, sort=True)\n",
    "\n",
    "print(ex_df['distance'])\n",
    "ex_df['distance (miles)'] = ex_df['distance']\n",
    "ex_df['distance'] = ex_df['distance (miles)'] * 1.60934  # Convert to km\n",
    "\n",
    "ex_df['startDate'] = [\n",
    "    datetime.datetime.strptime(x, '%Y-%m-%d').strftime('%d/%m/%Y')\n",
    "    for x in ex_df['startDate']\n",
    "]"
   ]
  },
  {
   "cell_type": "markdown",
   "metadata": {},
   "source": [
    "Inspect the data frame and export it to a csv: "
   ]
  },
  {
   "cell_type": "code",
   "execution_count": 40,
   "metadata": {},
   "outputs": [],
   "source": [
    "with open('./Outputs/exercise.csv', 'a') as f:\n",
    "    f.write('\\n') \n",
    "    ex_df.to_csv(f, header=False)"
   ]
  },
  {
   "cell_type": "code",
   "execution_count": 41,
   "metadata": {},
   "outputs": [
    {
     "data": {
      "text/html": [
       "<div>\n",
       "<style scoped>\n",
       "    .dataframe tbody tr th:only-of-type {\n",
       "        vertical-align: middle;\n",
       "    }\n",
       "\n",
       "    .dataframe tbody tr th {\n",
       "        vertical-align: top;\n",
       "    }\n",
       "\n",
       "    .dataframe thead th {\n",
       "        text-align: right;\n",
       "    }\n",
       "</style>\n",
       "<table border=\"1\" class=\"dataframe\">\n",
       "  <thead>\n",
       "    <tr style=\"text-align: right;\">\n",
       "      <th></th>\n",
       "      <th>activityId</th>\n",
       "      <th>activityParentId</th>\n",
       "      <th>activityParentName</th>\n",
       "      <th>calories</th>\n",
       "      <th>description</th>\n",
       "      <th>distance</th>\n",
       "      <th>duration</th>\n",
       "      <th>hasStartTime</th>\n",
       "      <th>isFavorite</th>\n",
       "      <th>lastModified</th>\n",
       "      <th>logId</th>\n",
       "      <th>name</th>\n",
       "      <th>startDate</th>\n",
       "      <th>startTime</th>\n",
       "      <th>steps</th>\n",
       "      <th>distance (miles)</th>\n",
       "    </tr>\n",
       "  </thead>\n",
       "  <tbody>\n",
       "    <tr>\n",
       "      <th>0</th>\n",
       "      <td>90009</td>\n",
       "      <td>90009</td>\n",
       "      <td>Run</td>\n",
       "      <td>188</td>\n",
       "      <td>Running - 5 mph (12 min/mile)</td>\n",
       "      <td>3.599991</td>\n",
       "      <td>1320000</td>\n",
       "      <td>True</td>\n",
       "      <td>False</td>\n",
       "      <td>2019-03-05T10:04:41.000Z</td>\n",
       "      <td>20214666562</td>\n",
       "      <td>Run</td>\n",
       "      <td>24/02/2019</td>\n",
       "      <td>12:33</td>\n",
       "      <td>3746</td>\n",
       "      <td>2.236936</td>\n",
       "    </tr>\n",
       "    <tr>\n",
       "      <th>0</th>\n",
       "      <td>90009</td>\n",
       "      <td>90009</td>\n",
       "      <td>Run</td>\n",
       "      <td>256</td>\n",
       "      <td>Running - 5 mph (12 min/mile)</td>\n",
       "      <td>4.499988</td>\n",
       "      <td>1807000</td>\n",
       "      <td>True</td>\n",
       "      <td>False</td>\n",
       "      <td>2019-03-05T10:03:23.000Z</td>\n",
       "      <td>20216333806</td>\n",
       "      <td>Run</td>\n",
       "      <td>04/03/2019</td>\n",
       "      <td>18:10</td>\n",
       "      <td>4547</td>\n",
       "      <td>2.796170</td>\n",
       "    </tr>\n",
       "  </tbody>\n",
       "</table>\n",
       "</div>"
      ],
      "text/plain": [
       "   activityId  activityParentId activityParentName  calories  \\\n",
       "0       90009             90009                Run       188   \n",
       "0       90009             90009                Run       256   \n",
       "\n",
       "                     description  distance  duration  hasStartTime  \\\n",
       "0  Running - 5 mph (12 min/mile)  3.599991   1320000          True   \n",
       "0  Running - 5 mph (12 min/mile)  4.499988   1807000          True   \n",
       "\n",
       "   isFavorite              lastModified        logId name   startDate  \\\n",
       "0       False  2019-03-05T10:04:41.000Z  20214666562  Run  24/02/2019   \n",
       "0       False  2019-03-05T10:03:23.000Z  20216333806  Run  04/03/2019   \n",
       "\n",
       "  startTime  steps  distance (miles)  \n",
       "0     12:33   3746          2.236936  \n",
       "0     18:10   4547          2.796170  "
      ]
     },
     "execution_count": 41,
     "metadata": {},
     "output_type": "execute_result"
    }
   ],
   "source": [
    "ex_df"
   ]
  },
  {
   "cell_type": "markdown",
   "metadata": {},
   "source": [
    "# Step 4: Export Daily Summaries <a class=\"anchor\" id=\"summary-bullet\"></a>\n",
    "\n",
    "Here we will export the summary of each day. This inlcudes minutes of activity, steps, calories and heart rate. "
   ]
  },
  {
   "cell_type": "code",
   "execution_count": 73,
   "metadata": {},
   "outputs": [],
   "source": [
    "dict_vars = ('Cardio (mins at HR)', 'Fat Burn (mins at HR)', 'Out of Range/low (mins at HR)', \\\n",
    "             'Peak (mins at HR)', 'caloriesOut', 'fairlyActiveMinutes', 'lightlyActiveMinutes', \\\n",
    "             'restingHeartRate', 'sedentaryMinutes', 'steps', 'veryActiveMinutes')"
   ]
  },
  {
   "cell_type": "code",
   "execution_count": 77,
   "metadata": {},
   "outputs": [
    {
     "name": "stdout",
     "output_type": "stream",
     "text": [
      "Range of dates selected: 8 days, 0:00:00 from 2019-02-24 to 2019-03-04\n"
     ]
    }
   ],
   "source": [
    "# If the analysis has been run before, we only need to run from the last date\n",
    "if os.path.exists('./Outputs/daily_summary.csv'):\n",
    "    ds_comp = pd.read_csv('./Outputs/daily_summary.csv')\n",
    "    lastdate = ds_comp.iloc[-1]['date'][0:10]\n",
    "else:\n",
    "    lastdate = \"2015/01/01\" # define the start date\n",
    "\n",
    "d1 = date(int(lastdate[6:10]), int(lastdate[3:5]), int(lastdate[0:2])) \n",
    "d2 = datetime.datetime.today().date() - timedelta(1) \n",
    "delta = (d2) - (d1) \n",
    "\n",
    "ds_dates_list = []\n",
    "for i in range(delta.days + 1): ds_dates_list.append(d1 + timedelta(i))\n",
    "\n",
    "print('Range of dates selected:', delta, 'from',  d1, 'to', d2)"
   ]
  },
  {
   "cell_type": "code",
   "execution_count": 78,
   "metadata": {},
   "outputs": [],
   "source": [
    "daily_df = pd.DataFrame()\n",
    "\n",
    "for d in ds_dates_list:\n",
    "    summary = auth2_client.activities(date=d)\n",
    "    daily_sum = {k: summary['summary'][k] for k in dict_vars if k in summary['summary'].keys()}\n",
    "    daily_sum2 = {k: 0 for k in dict_vars if k not in summary['summary'].keys()}\n",
    "    daily_sum.update(daily_sum2)\n",
    "\n",
    "    if 'heartRateZones' in summary['summary'].keys():\n",
    "        daily_sum['Out of Range/low (mins at HR)'] = summary['summary']['heartRateZones'][0]['minutes']\n",
    "        daily_sum['Fat Burn (mins at HR)'] = summary['summary']['heartRateZones'][1]['minutes']\n",
    "        daily_sum['Cardio (mins at HR)'] = summary['summary']['heartRateZones'][2]['minutes']\n",
    "        daily_sum['Peak (mins at HR)'] = summary['summary']['heartRateZones'][3]['minutes']\n",
    "    \n",
    "    daily_sum_df = pd.DataFrame.from_records(daily_sum, index=[0])\n",
    "    daily_df = daily_df.append(daily_sum_df, sort=True)\n",
    "    \n",
    "daily_df = daily_df.fillna(0)"
   ]
  },
  {
   "cell_type": "code",
   "execution_count": 81,
   "metadata": {},
   "outputs": [],
   "source": [
    "daily_df = daily_df.reindex(columns=dict_vars)\n",
    "daily_df['date'] = [x.strftime('%m/%d/%Y') for x in ds_dates_list]"
   ]
  },
  {
   "cell_type": "markdown",
   "metadata": {},
   "source": [
    "Inspect and export the daily summaries:"
   ]
  },
  {
   "cell_type": "code",
   "execution_count": 83,
   "metadata": {},
   "outputs": [],
   "source": [
    "with open('./Outputs/daily_summary.csv', 'a') as f:\n",
    "    f.write('\\n') \n",
    "    daily_df.to_csv(f, header=False, index=False)"
   ]
  },
  {
   "cell_type": "code",
   "execution_count": 82,
   "metadata": {},
   "outputs": [
    {
     "data": {
      "text/html": [
       "<div>\n",
       "<style scoped>\n",
       "    .dataframe tbody tr th:only-of-type {\n",
       "        vertical-align: middle;\n",
       "    }\n",
       "\n",
       "    .dataframe tbody tr th {\n",
       "        vertical-align: top;\n",
       "    }\n",
       "\n",
       "    .dataframe thead th {\n",
       "        text-align: right;\n",
       "    }\n",
       "</style>\n",
       "<table border=\"1\" class=\"dataframe\">\n",
       "  <thead>\n",
       "    <tr style=\"text-align: right;\">\n",
       "      <th></th>\n",
       "      <th>Cardio (mins at HR)</th>\n",
       "      <th>Fat Burn (mins at HR)</th>\n",
       "      <th>Out of Range/low (mins at HR)</th>\n",
       "      <th>Peak (mins at HR)</th>\n",
       "      <th>caloriesOut</th>\n",
       "      <th>fairlyActiveMinutes</th>\n",
       "      <th>lightlyActiveMinutes</th>\n",
       "      <th>restingHeartRate</th>\n",
       "      <th>sedentaryMinutes</th>\n",
       "      <th>steps</th>\n",
       "      <th>veryActiveMinutes</th>\n",
       "      <th>date</th>\n",
       "    </tr>\n",
       "  </thead>\n",
       "  <tbody>\n",
       "    <tr>\n",
       "      <th>0</th>\n",
       "      <td>16</td>\n",
       "      <td>52</td>\n",
       "      <td>509</td>\n",
       "      <td>0</td>\n",
       "      <td>1892</td>\n",
       "      <td>12</td>\n",
       "      <td>75</td>\n",
       "      <td>60</td>\n",
       "      <td>1275</td>\n",
       "      <td>13451</td>\n",
       "      <td>78</td>\n",
       "      <td>02/24/2019</td>\n",
       "    </tr>\n",
       "    <tr>\n",
       "      <th>0</th>\n",
       "      <td>0</td>\n",
       "      <td>28</td>\n",
       "      <td>1410</td>\n",
       "      <td>0</td>\n",
       "      <td>1875</td>\n",
       "      <td>21</td>\n",
       "      <td>99</td>\n",
       "      <td>59</td>\n",
       "      <td>1242</td>\n",
       "      <td>13231</td>\n",
       "      <td>78</td>\n",
       "      <td>02/25/2019</td>\n",
       "    </tr>\n",
       "    <tr>\n",
       "      <th>0</th>\n",
       "      <td>0</td>\n",
       "      <td>54</td>\n",
       "      <td>1376</td>\n",
       "      <td>0</td>\n",
       "      <td>1928</td>\n",
       "      <td>14</td>\n",
       "      <td>99</td>\n",
       "      <td>59</td>\n",
       "      <td>787</td>\n",
       "      <td>14875</td>\n",
       "      <td>86</td>\n",
       "      <td>02/26/2019</td>\n",
       "    </tr>\n",
       "    <tr>\n",
       "      <th>0</th>\n",
       "      <td>0</td>\n",
       "      <td>51</td>\n",
       "      <td>1171</td>\n",
       "      <td>0</td>\n",
       "      <td>1737</td>\n",
       "      <td>9</td>\n",
       "      <td>136</td>\n",
       "      <td>59</td>\n",
       "      <td>734</td>\n",
       "      <td>10209</td>\n",
       "      <td>16</td>\n",
       "      <td>02/27/2019</td>\n",
       "    </tr>\n",
       "    <tr>\n",
       "      <th>0</th>\n",
       "      <td>10</td>\n",
       "      <td>136</td>\n",
       "      <td>1154</td>\n",
       "      <td>0</td>\n",
       "      <td>2265</td>\n",
       "      <td>43</td>\n",
       "      <td>156</td>\n",
       "      <td>59</td>\n",
       "      <td>692</td>\n",
       "      <td>21923</td>\n",
       "      <td>94</td>\n",
       "      <td>02/28/2019</td>\n",
       "    </tr>\n",
       "  </tbody>\n",
       "</table>\n",
       "</div>"
      ],
      "text/plain": [
       "   Cardio (mins at HR)  Fat Burn (mins at HR)  Out of Range/low (mins at HR)  \\\n",
       "0                   16                     52                            509   \n",
       "0                    0                     28                           1410   \n",
       "0                    0                     54                           1376   \n",
       "0                    0                     51                           1171   \n",
       "0                   10                    136                           1154   \n",
       "\n",
       "   Peak (mins at HR)  caloriesOut  fairlyActiveMinutes  lightlyActiveMinutes  \\\n",
       "0                  0         1892                   12                    75   \n",
       "0                  0         1875                   21                    99   \n",
       "0                  0         1928                   14                    99   \n",
       "0                  0         1737                    9                   136   \n",
       "0                  0         2265                   43                   156   \n",
       "\n",
       "   restingHeartRate  sedentaryMinutes  steps  veryActiveMinutes        date  \n",
       "0                60              1275  13451                 78  02/24/2019  \n",
       "0                59              1242  13231                 78  02/25/2019  \n",
       "0                59               787  14875                 86  02/26/2019  \n",
       "0                59               734  10209                 16  02/27/2019  \n",
       "0                59               692  21923                 94  02/28/2019  "
      ]
     },
     "execution_count": 82,
     "metadata": {},
     "output_type": "execute_result"
    }
   ],
   "source": [
    "daily_df.head()"
   ]
  },
  {
   "cell_type": "markdown",
   "metadata": {},
   "source": [
    "# Step 5: Export Sleep Summary Data <a class=\"anchor\" id=\"sleep-bullet\"></a>\n",
    "\n",
    "Similarly we can export the sleep data which shows the hours in bed and hours asleep each day. "
   ]
  },
  {
   "cell_type": "code",
   "execution_count": 67,
   "metadata": {},
   "outputs": [
    {
     "name": "stdout",
     "output_type": "stream",
     "text": [
      "26/02/2019\n",
      "Range of dates selected: 6 days, 0:00:00 from 2019-02-26 to 2019-03-04\n"
     ]
    }
   ],
   "source": [
    "# If the analysis has been run before, we only need to run from the last date\n",
    "if os.path.exists('./Outputs/sleep_summary.csv'):\n",
    "    ss_comp = pd.read_csv('./Outputs/sleep_summary.csv')\n",
    "    lastdate= ss_comp.iloc[-1]['Date'][0:10]\n",
    "else:\n",
    "    lastdate = \"2015/01/01\" # define the start date\n",
    "\n",
    "print(lastdate)    \n",
    "\n",
    "d1 = date(int(lastdate[6:10]), int(lastdate[3:5]), int(lastdate[0:2]))     # start date\n",
    "d2 = datetime.datetime.today().date() - timedelta(1) \n",
    "delta = (d2) - (d1) \n",
    "\n",
    "ss_dates_list = []\n",
    "for i in range(delta.days + 1): ss_dates_list.append(d1 + timedelta(i))\n",
    "\n",
    "print('Range of dates selected:', delta, 'from',  d1, 'to', d2)"
   ]
  },
  {
   "cell_type": "code",
   "execution_count": 68,
   "metadata": {},
   "outputs": [
    {
     "name": "stdout",
     "output_type": "stream",
     "text": [
      "\tNo sleep data for 2019-03-04\n"
     ]
    }
   ],
   "source": [
    "sleep_df = pd.DataFrame()\n",
    "\n",
    "for d in ss_dates_list:\n",
    "    fit_statsSl = auth2_client.sleep(date=d)\n",
    "    stime_list = []\n",
    "    sval_list = []\n",
    "\n",
    "    if len(fit_statsSl['sleep']) != 0:\n",
    "    \n",
    "        for i in fit_statsSl['sleep'][0]['minuteData']:\n",
    "            stime_list.append(i['dateTime'])\n",
    "            sval_list.append(i['value'])\n",
    "            \n",
    "        #Calculate the sleep summary\n",
    "        dict_sum = {\n",
    "            'Date' : d, \n",
    "            'Time in bed (mins)' : len(stime_list), \n",
    "            'Time asleep (mins)' : (sval_list.count('1')),\n",
    "            'Time awake (mins)' : (sval_list.count('2')),\n",
    "            'Time very awake (mins)' : (sval_list.count('3')),\n",
    "            'Bedtime (mins)' : (stime_list[0]),\n",
    "            'Wake up (mins)' : (stime_list[-1]),\n",
    "            'Total time' : \"{:.2f}\".format(((datetime.datetime.strptime(stime_list[-1],'%H:%M:%S') - \\\n",
    "                            datetime.datetime.strptime(stime_list[0],'%H:%M:%S')).total_seconds())/(60*60))\n",
    "        }\n",
    "\n",
    "        sleep_sum_df = pd.DataFrame.from_records(dict_sum, index=[0])\n",
    "        sleep_df = sleep_df.append(sleep_sum_df)\n",
    "    \n",
    "    else:\n",
    "        print('\\tNo sleep data for ' + d.strftime('%Y-%m-%d'))"
   ]
  },
  {
   "cell_type": "code",
   "execution_count": 69,
   "metadata": {},
   "outputs": [],
   "source": [
    "sleep_df['Date'] = [x.strftime('%m/%d/%Y') for x in sleep_df['Date']]"
   ]
  },
  {
   "cell_type": "code",
   "execution_count": 71,
   "metadata": {},
   "outputs": [],
   "source": [
    "with open('./Outputs/sleep_summary.csv', 'a') as f:\n",
    "    f.write('\\n') \n",
    "    sleep_df.to_csv(f, header=False)"
   ]
  }
 ],
 "metadata": {
  "kernelspec": {
   "display_name": "Python 3",
   "language": "python",
   "name": "python3"
  },
  "language_info": {
   "codemirror_mode": {
    "name": "ipython",
    "version": 3
   },
   "file_extension": ".py",
   "mimetype": "text/x-python",
   "name": "python",
   "nbconvert_exporter": "python",
   "pygments_lexer": "ipython3",
   "version": "3.7.1"
  },
  "latex_envs": {
   "LaTeX_envs_menu_present": true,
   "autoclose": false,
   "autocomplete": true,
   "bibliofile": "biblio.bib",
   "cite_by": "apalike",
   "current_citInitial": 1,
   "eqLabelWithNumbers": true,
   "eqNumInitial": 1,
   "hotkeys": {
    "equation": "Ctrl-E",
    "itemize": "Ctrl-I"
   },
   "labels_anchors": false,
   "latex_user_defs": false,
   "report_style_numbering": false,
   "user_envs_cfg": false
  },
  "toc": {
   "base_numbering": 1,
   "nav_menu": {},
   "number_sections": true,
   "sideBar": true,
   "skip_h1_title": false,
   "title_cell": "Table of Contents",
   "title_sidebar": "Contents",
   "toc_cell": false,
   "toc_position": {
    "height": "calc(100% - 180px)",
    "left": "10px",
    "top": "150px",
    "width": "341.3333435058594px"
   },
   "toc_section_display": true,
   "toc_window_display": true
  }
 },
 "nbformat": 4,
 "nbformat_minor": 2
}
