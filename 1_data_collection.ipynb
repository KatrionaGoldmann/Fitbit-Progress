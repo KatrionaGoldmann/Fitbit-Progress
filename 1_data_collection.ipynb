{
 "cells": [
  {
   "cell_type": "markdown",
   "metadata": {},
   "source": [
    "# Exporting Fitbit Data\n",
    "\n",
    "<b> Katriona Goldmann </b>\n",
    "\n",
    "\n",
    "This script accesses the fitbit API and outputs the data to csv files. Fitbit API Python Client Implemented using scripts by [Brad Pitcher's python-fitbit repo](https://github.com/orcasgit/python-fitbit). "
   ]
  },
  {
   "cell_type": "markdown",
   "metadata": {},
   "source": [
    "## Outline:\n",
    "* [Step 1: Access the fitbit API](#first-bullet)\n",
    "* [Step 2: Extract the Data](#second-bullet)\n",
    "* [Step 3: Export Exercise Data](#exercise-bullet)\n",
    "* [Step 4: Export Daily Summaries](#summary-bullet)\n",
    "* [Step 5: Export the sleep summary data](#sleep-bullet)\n",
    "\n",
    "I have automated the script to replot the data every other day using [launchd](https://medium.com/@chetcorcos/a-simple-launchd-tutorial-9fecfcf2dbb3) on my laptop. There is also a copy of the launchd script, as well as the bash script it exectutes (fitbit-update.sh), in this repo. "
   ]
  },
  {
   "cell_type": "markdown",
   "metadata": {},
   "source": [
    "## Step 1: Access the fitbit API <a class=\"anchor\" id=\"first-bullet\"></a>\n",
    "\n",
    "Import the necessary packages and their use cases for this project:\n",
    "   \n",
    ">fitbit: access fitbit data <br>\n",
    ">gather_keys_oauth2: authorize fitbit access <br>\n",
    ">pandas: data frames and data manipulation <br>\n",
    ">numpy: summary statistics <br>\n",
    ">datetime: turn the dates into datetime objects / get day of week <br>\n",
    ">cherrypy: for web applications<br>\n",
    ">sys: This module provides access to some variables used or maintained by the interpreter<br>\n",
    ">gather_keys_oauth: to authorize the API, script [here](https://github.com/orcasgit/python-fitbit/blob/master/gather_keys_oauth2.py)<br>\n",
    "\n",
    "To download the fitbit module simply run \n",
    "> $ pip install git+git://github.com/orcasgit/python-fitbit"
   ]
  },
  {
   "cell_type": "code",
   "execution_count": 1,
   "metadata": {},
   "outputs": [],
   "source": [
    "import fitbit\n",
    "import pandas as pd\n",
    "import numpy as np\n",
    "import os\n",
    "import datetime\n",
    "from datetime import date, timedelta\n",
    "import cherrypy\n",
    "import sys\n",
    "import gather_keys_oauth2 as Oauth2"
   ]
  },
  {
   "cell_type": "markdown",
   "metadata": {},
   "source": [
    "I have saved my api keys in a csv file located within this directory. Your will need to enter your unique client ID and secret as described in step 1 [here](https://towardsdatascience.com/collect-your-own-fitbit-data-with-python-ff145fa10873):"
   ]
  },
  {
   "cell_type": "code",
   "execution_count": 2,
   "metadata": {},
   "outputs": [],
   "source": [
    "df = pd.read_csv('./Inputs/api_key.csv')\n",
    "\n",
    "CLIENT_ID = df.iat[0,0]\n",
    "CLIENT_SECRET = df.iat[0,1]"
   ]
  },
  {
   "cell_type": "code",
   "execution_count": 3,
   "metadata": {},
   "outputs": [],
   "source": [
    "server = Oauth2.OAuth2Server(CLIENT_ID, CLIENT_SECRET)"
   ]
  },
  {
   "cell_type": "markdown",
   "metadata": {},
   "source": [
    "The next cell will take you to a new tab for authentification, you may need to log in and approve. The tab can be closed once authorized. If this causes errors, this may be due to package versions installed (see [here](https://github.com/orcasgit/python-fitbit/issues/142)). If this is the case roll back to previous versions: pip install requests-oauthlib==1.1.0, and pip install oauthlib==2.1.0"
   ]
  },
  {
   "cell_type": "code",
   "execution_count": 4,
   "metadata": {},
   "outputs": [
    {
     "name": "stderr",
     "output_type": "stream",
     "text": [
      "[12/Mar/2019:21:53:27] ENGINE Listening for SIGTERM.\n",
      "[12/Mar/2019:21:53:27] ENGINE Listening for SIGHUP.\n",
      "[12/Mar/2019:21:53:27] ENGINE Listening for SIGUSR1.\n",
      "[12/Mar/2019:21:53:27] ENGINE Bus STARTING\n",
      "CherryPy Checker:\n",
      "The Application mounted at '' has an empty config.\n",
      "\n",
      "[12/Mar/2019:21:53:27] ENGINE Started monitor thread 'Autoreloader'.\n",
      "[12/Mar/2019:21:53:27] ENGINE Serving on http://127.0.0.1:8080\n",
      "[12/Mar/2019:21:53:27] ENGINE Bus STARTED\n"
     ]
    },
    {
     "name": "stdout",
     "output_type": "stream",
     "text": [
      "127.0.0.1 - - [12/Mar/2019:21:53:29] \"GET /?code=0b91b68cfeff5a8883d2cdca9324eb35f6308e40&state=U8iH6JC1up50cEhZKjXrFpkV116VDs HTTP/1.1\" 200 122 \"\" \"Mozilla/5.0 (Macintosh; Intel Mac OS X 10_13_6) AppleWebKit/605.1.15 (KHTML, like Gecko) Version/12.0.3 Safari/605.1.15\"\n",
      "127.0.0.1 - - [12/Mar/2019:21:53:29] \"GET /favicon.ico HTTP/1.1\" 200 1406 \"http://127.0.0.1:8080/?code=0b91b68cfeff5a8883d2cdca9324eb35f6308e40&state=U8iH6JC1up50cEhZKjXrFpkV116VDs\" \"Mozilla/5.0 (Macintosh; Intel Mac OS X 10_13_6) AppleWebKit/605.1.15 (KHTML, like Gecko) Version/12.0.3 Safari/605.1.15\"\n"
     ]
    },
    {
     "name": "stderr",
     "output_type": "stream",
     "text": [
      "[12/Mar/2019:21:53:30] ENGINE Bus STOPPING\n",
      "[12/Mar/2019:21:53:35] ENGINE HTTP Server cherrypy._cpwsgi_server.CPWSGIServer(('127.0.0.1', 8080)) shut down\n",
      "[12/Mar/2019:21:53:35] ENGINE Stopped thread 'Autoreloader'.\n",
      "[12/Mar/2019:21:53:35] ENGINE Bus STOPPED\n",
      "[12/Mar/2019:21:53:35] ENGINE Bus EXITING\n",
      "[12/Mar/2019:21:53:35] ENGINE Bus EXITED\n",
      "[12/Mar/2019:21:53:35] ENGINE Waiting for child threads to terminate...\n"
     ]
    }
   ],
   "source": [
    "server.browser_authorize()"
   ]
  },
  {
   "cell_type": "code",
   "execution_count": 5,
   "metadata": {},
   "outputs": [],
   "source": [
    "ACCESS_TOKEN = str(server.fitbit.client.session.token['access_token'])\n",
    "REFRESH_TOKEN = str(server.fitbit.client.session.token['refresh_token'])\n",
    "\n",
    "auth2_client = fitbit.Fitbit(\n",
    "    CLIENT_ID,\n",
    "    CLIENT_SECRET,\n",
    "    oauth2=True,\n",
    "    access_token=ACCESS_TOKEN,\n",
    "    refresh_token=REFRESH_TOKEN)"
   ]
  },
  {
   "cell_type": "markdown",
   "metadata": {},
   "source": [
    "# Step 2: Extract the User Data <a class=\"anchor\" id=\"second-bullet\"></a>\n",
    "\n",
    "The details and documentation for the API functions can be found [here](https://python-fitbit.readthedocs.io/en/latest/)."
   ]
  },
  {
   "cell_type": "code",
   "execution_count": 6,
   "metadata": {},
   "outputs": [],
   "source": [
    "user_info = auth2_client.user_profile_get()[\"user\"]"
   ]
  },
  {
   "cell_type": "code",
   "execution_count": 7,
   "metadata": {},
   "outputs": [
    {
     "name": "stdout",
     "output_type": "stream",
     "text": [
      "\n",
      "Average daily steps:  12396 \n",
      "stride length:  0.648 m \n",
      "running stride length:  0.961 m\n"
     ]
    }
   ],
   "source": [
    "print(\"\\nAverage daily steps: \", user_info[\"averageDailySteps\"], \n",
    "      \"\\nstride length: \", user_info[\"strideLengthWalking\"]*0.0254, 'm',\n",
    "      \"\\nrunning stride length: \", user_info[\"strideLengthRunning\"]*0.0254, 'm')"
   ]
  },
  {
   "cell_type": "markdown",
   "metadata": {},
   "source": [
    "# Step 3: Export Exercise Data <a class=\"anchor\" id=\"exercise-bullet\"></a>\n",
    "\n",
    "\n",
    "Extract the log of exercise so that it can be analysed further down the line. This way we can monitor exercise frequncy and check for improvements or changes. But first lets check the dates we still need to run:"
   ]
  },
  {
   "cell_type": "code",
   "execution_count": 8,
   "metadata": {},
   "outputs": [
    {
     "name": "stdout",
     "output_type": "stream",
     "text": [
      "Range of dates selected: 6 days, 0:00:00 from 2019-03-05 to 2019-03-11\n"
     ]
    }
   ],
   "source": [
    "# If the analysis has been run before, we only need to run from the last date\n",
    "if os.path.exists('./Outputs/exercise.csv'):\n",
    "    ex_comp = pd.read_csv('./Outputs/exercise.csv')\n",
    "    lastdate = ex_comp.iloc[-1]['lastModified'][0:10]\n",
    "else:\n",
    "    lastdate = \"2019/02/01\" # define the start date\n",
    "\n",
    "d1 = date(int(lastdate[0:4]), int(lastdate[5:7]), int(lastdate[8:10]))    # start date\n",
    "d2 = datetime.datetime.today().date() - timedelta(1) \n",
    "delta = (d2) - (d1) \n",
    "\n",
    "ex_dates_list = []\n",
    "for i in range(delta.days + 1): ex_dates_list.append(d1 + timedelta(i))\n",
    "\n",
    "print('Range of dates selected:', delta, 'from',  d1, 'to', d2)"
   ]
  },
  {
   "cell_type": "code",
   "execution_count": 9,
   "metadata": {},
   "outputs": [],
   "source": [
    "ex_df = pd.DataFrame()\n",
    "\n",
    "for d in ex_dates_list:\n",
    "    summary = auth2_client.activities(date=d)\n",
    "    exercise = pd.DataFrame.from_records(summary['activities'])\n",
    "    ex_df = ex_df.append(exercise, sort=True)\n",
    "\n",
    "ex_df['distance (miles)'] = ex_df['distance']\n",
    "ex_df['distance'] = ex_df['distance (miles)'] * 1.60934  # Convert to km\n",
    "\n",
    "ex_df['startDate'] = [\n",
    "    datetime.datetime.strptime(x, '%Y-%m-%d').strftime('%d/%m/%Y')\n",
    "    for x in ex_df['startDate']\n",
    "]"
   ]
  },
  {
   "cell_type": "markdown",
   "metadata": {},
   "source": [
    "Inspect the data frame and export it to a csv: "
   ]
  },
  {
   "cell_type": "code",
   "execution_count": 10,
   "metadata": {},
   "outputs": [],
   "source": [
    "ex_df = ex_df.drop_duplicates()\n",
    "with open('./Outputs/exercise.csv', 'a') as f:\n",
    "    f.write('\\n') \n",
    "    ex_df.to_csv(f, header=False)"
   ]
  },
  {
   "cell_type": "code",
   "execution_count": 11,
   "metadata": {},
   "outputs": [
    {
     "data": {
      "text/html": [
       "<div>\n",
       "<style scoped>\n",
       "    .dataframe tbody tr th:only-of-type {\n",
       "        vertical-align: middle;\n",
       "    }\n",
       "\n",
       "    .dataframe tbody tr th {\n",
       "        vertical-align: top;\n",
       "    }\n",
       "\n",
       "    .dataframe thead th {\n",
       "        text-align: right;\n",
       "    }\n",
       "</style>\n",
       "<table border=\"1\" class=\"dataframe\">\n",
       "  <thead>\n",
       "    <tr style=\"text-align: right;\">\n",
       "      <th></th>\n",
       "      <th>activityId</th>\n",
       "      <th>activityParentId</th>\n",
       "      <th>activityParentName</th>\n",
       "      <th>calories</th>\n",
       "      <th>description</th>\n",
       "      <th>distance</th>\n",
       "      <th>duration</th>\n",
       "      <th>hasStartTime</th>\n",
       "      <th>isFavorite</th>\n",
       "      <th>lastModified</th>\n",
       "      <th>logId</th>\n",
       "      <th>name</th>\n",
       "      <th>startDate</th>\n",
       "      <th>startTime</th>\n",
       "      <th>steps</th>\n",
       "      <th>distance (miles)</th>\n",
       "    </tr>\n",
       "  </thead>\n",
       "  <tbody>\n",
       "    <tr>\n",
       "      <th>0</th>\n",
       "      <td>90013</td>\n",
       "      <td>90013</td>\n",
       "      <td>Walk</td>\n",
       "      <td>463</td>\n",
       "      <td>Walking less than 2 mph, strolling very slowly</td>\n",
       "      <td>8.953685</td>\n",
       "      <td>3874244</td>\n",
       "      <td>True</td>\n",
       "      <td>False</td>\n",
       "      <td>2019-03-09T11:46:06.000Z</td>\n",
       "      <td>20394030809</td>\n",
       "      <td>Walk</td>\n",
       "      <td>09/03/2019</td>\n",
       "      <td>10:39</td>\n",
       "      <td>9753</td>\n",
       "      <td>5.563576</td>\n",
       "    </tr>\n",
       "  </tbody>\n",
       "</table>\n",
       "</div>"
      ],
      "text/plain": [
       "   activityId  activityParentId activityParentName  calories  \\\n",
       "0       90013             90013               Walk       463   \n",
       "\n",
       "                                      description  distance  duration  \\\n",
       "0  Walking less than 2 mph, strolling very slowly  8.953685   3874244   \n",
       "\n",
       "   hasStartTime  isFavorite              lastModified        logId  name  \\\n",
       "0          True       False  2019-03-09T11:46:06.000Z  20394030809  Walk   \n",
       "\n",
       "    startDate startTime  steps  distance (miles)  \n",
       "0  09/03/2019     10:39   9753          5.563576  "
      ]
     },
     "execution_count": 11,
     "metadata": {},
     "output_type": "execute_result"
    }
   ],
   "source": [
    "ex_df"
   ]
  },
  {
   "cell_type": "markdown",
   "metadata": {},
   "source": [
    "# Step 4: Export Daily Summaries <a class=\"anchor\" id=\"summary-bullet\"></a>\n",
    "\n",
    "Here we will export the summary of each day. This inlcudes minutes of activity, steps, calories and heart rate. "
   ]
  },
  {
   "cell_type": "code",
   "execution_count": 12,
   "metadata": {},
   "outputs": [],
   "source": [
    "dict_vars = ('Cardio (mins at HR)', 'Fat Burn (mins at HR)', 'Out of Range/low (mins at HR)', \\\n",
    "             'Peak (mins at HR)', 'caloriesOut', 'fairlyActiveMinutes', 'lightlyActiveMinutes', \\\n",
    "             'restingHeartRate', 'sedentaryMinutes', 'steps', 'veryActiveMinutes')"
   ]
  },
  {
   "cell_type": "code",
   "execution_count": 13,
   "metadata": {},
   "outputs": [
    {
     "name": "stdout",
     "output_type": "stream",
     "text": [
      "Range of dates selected: -23 days, 0:00:00 from 2019-04-03 to 2019-03-11\n"
     ]
    }
   ],
   "source": [
    "# If the analysis has been run before, we only need to run from the last date\n",
    "if os.path.exists('./Outputs/daily_summary.csv'):\n",
    "    ds_comp = pd.read_csv('./Outputs/daily_summary.csv')\n",
    "    lastdate = ds_comp.iloc[-1]['date'][0:10]\n",
    "else:\n",
    "    lastdate = \"2015/01/01\" # define the start date\n",
    "\n",
    "d1 = date(int(lastdate[6:10]), int(lastdate[3:5]), int(lastdate[0:2])) \n",
    "d2 = datetime.datetime.today().date() - timedelta(1) \n",
    "delta = (d2) - (d1) \n",
    "\n",
    "ds_dates_list = []\n",
    "for i in range(delta.days + 1): ds_dates_list.append(d1 + timedelta(i))\n",
    "\n",
    "print('Range of dates selected:', delta, 'from',  d1, 'to', d2)"
   ]
  },
  {
   "cell_type": "code",
   "execution_count": 14,
   "metadata": {},
   "outputs": [],
   "source": [
    "daily_df = pd.DataFrame()\n",
    "\n",
    "for d in ds_dates_list:\n",
    "    summary = auth2_client.activities(date=d)\n",
    "    daily_sum = {k: summary['summary'][k] for k in dict_vars if k in summary['summary'].keys()}\n",
    "    daily_sum2 = {k: 0 for k in dict_vars if k not in summary['summary'].keys()}\n",
    "    daily_sum.update(daily_sum2)\n",
    "\n",
    "    if 'heartRateZones' in summary['summary'].keys():\n",
    "        daily_sum['Out of Range/low (mins at HR)'] = summary['summary']['heartRateZones'][0]['minutes']\n",
    "        daily_sum['Fat Burn (mins at HR)'] = summary['summary']['heartRateZones'][1]['minutes']\n",
    "        daily_sum['Cardio (mins at HR)'] = summary['summary']['heartRateZones'][2]['minutes']\n",
    "        daily_sum['Peak (mins at HR)'] = summary['summary']['heartRateZones'][3]['minutes']\n",
    "    \n",
    "    daily_sum_df = pd.DataFrame.from_records(daily_sum, index=[0])\n",
    "    daily_df = daily_df.append(daily_sum_df, sort=True)\n",
    "    \n",
    "daily_df = daily_df.fillna(0)"
   ]
  },
  {
   "cell_type": "code",
   "execution_count": 15,
   "metadata": {},
   "outputs": [],
   "source": [
    "daily_df = daily_df.reindex(columns=dict_vars)\n",
    "daily_df['date'] = [x.strftime('%m/%d/%Y') for x in ds_dates_list]"
   ]
  },
  {
   "cell_type": "markdown",
   "metadata": {},
   "source": [
    "Inspect and export the daily summaries:"
   ]
  },
  {
   "cell_type": "code",
   "execution_count": 16,
   "metadata": {},
   "outputs": [],
   "source": [
    "with open('./Outputs/daily_summary.csv', 'a') as f:\n",
    "    f.write('\\n') \n",
    "    daily_df.to_csv(f, header=False, index=False)"
   ]
  },
  {
   "cell_type": "code",
   "execution_count": 17,
   "metadata": {},
   "outputs": [
    {
     "data": {
      "text/html": [
       "<div>\n",
       "<style scoped>\n",
       "    .dataframe tbody tr th:only-of-type {\n",
       "        vertical-align: middle;\n",
       "    }\n",
       "\n",
       "    .dataframe tbody tr th {\n",
       "        vertical-align: top;\n",
       "    }\n",
       "\n",
       "    .dataframe thead th {\n",
       "        text-align: right;\n",
       "    }\n",
       "</style>\n",
       "<table border=\"1\" class=\"dataframe\">\n",
       "  <thead>\n",
       "    <tr style=\"text-align: right;\">\n",
       "      <th></th>\n",
       "      <th>Cardio (mins at HR)</th>\n",
       "      <th>Fat Burn (mins at HR)</th>\n",
       "      <th>Out of Range/low (mins at HR)</th>\n",
       "      <th>Peak (mins at HR)</th>\n",
       "      <th>caloriesOut</th>\n",
       "      <th>fairlyActiveMinutes</th>\n",
       "      <th>lightlyActiveMinutes</th>\n",
       "      <th>restingHeartRate</th>\n",
       "      <th>sedentaryMinutes</th>\n",
       "      <th>steps</th>\n",
       "      <th>veryActiveMinutes</th>\n",
       "      <th>date</th>\n",
       "    </tr>\n",
       "  </thead>\n",
       "  <tbody>\n",
       "  </tbody>\n",
       "</table>\n",
       "</div>"
      ],
      "text/plain": [
       "Empty DataFrame\n",
       "Columns: [Cardio (mins at HR), Fat Burn (mins at HR), Out of Range/low (mins at HR), Peak (mins at HR), caloriesOut, fairlyActiveMinutes, lightlyActiveMinutes, restingHeartRate, sedentaryMinutes, steps, veryActiveMinutes, date]\n",
       "Index: []"
      ]
     },
     "execution_count": 17,
     "metadata": {},
     "output_type": "execute_result"
    }
   ],
   "source": [
    "daily_df.head()"
   ]
  },
  {
   "cell_type": "markdown",
   "metadata": {},
   "source": [
    "# Step 5: Export Sleep Summary Data <a class=\"anchor\" id=\"sleep-bullet\"></a>\n",
    "\n",
    "Similarly we can export the sleep data which shows the hours in bed and hours asleep each day. "
   ]
  },
  {
   "cell_type": "code",
   "execution_count": 18,
   "metadata": {},
   "outputs": [
    {
     "name": "stdout",
     "output_type": "stream",
     "text": [
      "03/03/2019\n",
      "Range of dates selected: 8 days, 0:00:00 from 2019-03-03 to 2019-03-11\n"
     ]
    }
   ],
   "source": [
    "# If the analysis has been run before, we only need to run from the last date\n",
    "if os.path.exists('./Outputs/sleep_summary.csv'):\n",
    "    ss_comp = pd.read_csv('./Outputs/sleep_summary.csv')\n",
    "    lastdate= ss_comp.iloc[-1]['Date'][0:10]\n",
    "else:\n",
    "    lastdate = \"2015/01/01\" # define the start date\n",
    "\n",
    "print(lastdate)    \n",
    "\n",
    "d1 = date(int(lastdate[6:10]), int(lastdate[3:5]), int(lastdate[0:2]))     # start date\n",
    "d2 = datetime.datetime.today().date() - timedelta(1) \n",
    "delta = (d2) - (d1) \n",
    "\n",
    "ss_dates_list = []\n",
    "for i in range(delta.days + 1): ss_dates_list.append(d1 + timedelta(i))\n",
    "\n",
    "print('Range of dates selected:', delta, 'from',  d1, 'to', d2)"
   ]
  },
  {
   "cell_type": "code",
   "execution_count": 19,
   "metadata": {},
   "outputs": [
    {
     "name": "stdout",
     "output_type": "stream",
     "text": [
      "\tNo sleep data for 2019-03-04\n",
      "\tNo sleep data for 2019-03-07\n",
      "\tNo sleep data for 2019-03-08\n",
      "\tNo sleep data for 2019-03-09\n",
      "\tNo sleep data for 2019-03-10\n",
      "\tNo sleep data for 2019-03-11\n"
     ]
    }
   ],
   "source": [
    "sleep_df = pd.DataFrame()\n",
    "\n",
    "for d in ss_dates_list:\n",
    "    fit_statsSl = auth2_client.sleep(date=d)\n",
    "    stime_list = []\n",
    "    sval_list = []\n",
    "\n",
    "    if len(fit_statsSl['sleep']) != 0:\n",
    "    \n",
    "        for i in fit_statsSl['sleep'][0]['minuteData']:\n",
    "            stime_list.append(i['dateTime'])\n",
    "            sval_list.append(i['value'])\n",
    "            \n",
    "        #Calculate the sleep summary\n",
    "        dict_sum = {\n",
    "            'Date' : d, \n",
    "            'Time in bed (mins)' : len(stime_list), \n",
    "            'Time asleep (mins)' : (sval_list.count('1')),\n",
    "            'Time awake (mins)' : (sval_list.count('2')),\n",
    "            'Time very awake (mins)' : (sval_list.count('3')),\n",
    "            'Bedtime (mins)' : (stime_list[0]),\n",
    "            'Wake up (mins)' : (stime_list[-1]),\n",
    "            'Total time' : \"{:.2f}\".format(((datetime.datetime.strptime(stime_list[-1],'%H:%M:%S') - \\\n",
    "                            datetime.datetime.strptime(stime_list[0],'%H:%M:%S')).total_seconds())/(60*60))\n",
    "        }\n",
    "\n",
    "        sleep_sum_df = pd.DataFrame.from_records(dict_sum, index=[0])\n",
    "        sleep_df = sleep_df.append(sleep_sum_df)\n",
    "        sleep_df['Date'] = [x.strftime('%m/%d/%Y') for x in sleep_df['Date']]\n",
    "    \n",
    "    else:\n",
    "        print('\\tNo sleep data for ' + d.strftime('%Y-%m-%d'))"
   ]
  },
  {
   "cell_type": "code",
   "execution_count": 21,
   "metadata": {},
   "outputs": [],
   "source": [
    "with open('./Outputs/sleep_summary.csv', 'a') as f:\n",
    "    f.write('\\n') \n",
    "    sleep_df.to_csv(f, header=False)"
   ]
  },
  {
   "cell_type": "code",
   "execution_count": 22,
   "metadata": {},
   "outputs": [
    {
     "data": {
      "text/html": [
       "<div>\n",
       "<style scoped>\n",
       "    .dataframe tbody tr th:only-of-type {\n",
       "        vertical-align: middle;\n",
       "    }\n",
       "\n",
       "    .dataframe tbody tr th {\n",
       "        vertical-align: top;\n",
       "    }\n",
       "\n",
       "    .dataframe thead th {\n",
       "        text-align: right;\n",
       "    }\n",
       "</style>\n",
       "<table border=\"1\" class=\"dataframe\">\n",
       "  <thead>\n",
       "    <tr style=\"text-align: right;\">\n",
       "      <th></th>\n",
       "      <th>Bedtime (mins)</th>\n",
       "      <th>Date</th>\n",
       "      <th>Time asleep (mins)</th>\n",
       "      <th>Time awake (mins)</th>\n",
       "      <th>Time in bed (mins)</th>\n",
       "      <th>Time very awake (mins)</th>\n",
       "      <th>Total time</th>\n",
       "      <th>Wake up (mins)</th>\n",
       "    </tr>\n",
       "  </thead>\n",
       "  <tbody>\n",
       "    <tr>\n",
       "      <th>0</th>\n",
       "      <td>01:38:00</td>\n",
       "      <td>03/03/2019</td>\n",
       "      <td>523</td>\n",
       "      <td>7</td>\n",
       "      <td>530</td>\n",
       "      <td>0</td>\n",
       "      <td>8.82</td>\n",
       "      <td>10:27:00</td>\n",
       "    </tr>\n",
       "    <tr>\n",
       "      <th>0</th>\n",
       "      <td>23:28:30</td>\n",
       "      <td>03/05/2019</td>\n",
       "      <td>481</td>\n",
       "      <td>11</td>\n",
       "      <td>492</td>\n",
       "      <td>0</td>\n",
       "      <td>-15.82</td>\n",
       "      <td>07:39:30</td>\n",
       "    </tr>\n",
       "    <tr>\n",
       "      <th>0</th>\n",
       "      <td>23:31:30</td>\n",
       "      <td>03/06/2019</td>\n",
       "      <td>467</td>\n",
       "      <td>13</td>\n",
       "      <td>480</td>\n",
       "      <td>0</td>\n",
       "      <td>-16.02</td>\n",
       "      <td>07:30:30</td>\n",
       "    </tr>\n",
       "  </tbody>\n",
       "</table>\n",
       "</div>"
      ],
      "text/plain": [
       "  Bedtime (mins)        Date  Time asleep (mins)  Time awake (mins)  \\\n",
       "0       01:38:00  03/03/2019                 523                  7   \n",
       "0       23:28:30  03/05/2019                 481                 11   \n",
       "0       23:31:30  03/06/2019                 467                 13   \n",
       "\n",
       "   Time in bed (mins)  Time very awake (mins) Total time Wake up (mins)  \n",
       "0                 530                       0       8.82       10:27:00  \n",
       "0                 492                       0     -15.82       07:39:30  \n",
       "0                 480                       0     -16.02       07:30:30  "
      ]
     },
     "execution_count": 22,
     "metadata": {},
     "output_type": "execute_result"
    }
   ],
   "source": [
    "sleep_df.head()"
   ]
  },
  {
   "cell_type": "code",
   "execution_count": null,
   "metadata": {},
   "outputs": [],
   "source": []
  }
 ],
 "metadata": {
  "kernelspec": {
   "display_name": "Python 3",
   "language": "python",
   "name": "python3"
  },
  "language_info": {
   "codemirror_mode": {
    "name": "ipython",
    "version": 3
   },
   "file_extension": ".py",
   "mimetype": "text/x-python",
   "name": "python",
   "nbconvert_exporter": "python",
   "pygments_lexer": "ipython3",
   "version": "3.7.1"
  },
  "latex_envs": {
   "LaTeX_envs_menu_present": true,
   "autoclose": false,
   "autocomplete": true,
   "bibliofile": "biblio.bib",
   "cite_by": "apalike",
   "current_citInitial": 1,
   "eqLabelWithNumbers": true,
   "eqNumInitial": 1,
   "hotkeys": {
    "equation": "Ctrl-E",
    "itemize": "Ctrl-I"
   },
   "labels_anchors": false,
   "latex_user_defs": false,
   "report_style_numbering": false,
   "user_envs_cfg": false
  },
  "toc": {
   "base_numbering": 1,
   "nav_menu": {},
   "number_sections": true,
   "sideBar": true,
   "skip_h1_title": false,
   "title_cell": "Table of Contents",
   "title_sidebar": "Contents",
   "toc_cell": false,
   "toc_position": {
    "height": "calc(100% - 180px)",
    "left": "10px",
    "top": "150px",
    "width": "341.3333435058594px"
   },
   "toc_section_display": true,
   "toc_window_display": true
  }
 },
 "nbformat": 4,
 "nbformat_minor": 2
}
